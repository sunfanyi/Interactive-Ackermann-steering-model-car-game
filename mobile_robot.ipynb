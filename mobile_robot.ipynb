{
 "cells": [
  {
   "cell_type": "code",
   "execution_count": 1,
   "id": "c528a1c7",
   "metadata": {},
   "outputs": [],
   "source": [
    "import numpy as np\n",
    "import sympy as sp\n",
    "import matplotlib.pyplot as plt\n",
    "\n",
    "from car import Car\n",
    "from tools_cv import *\n",
    "from tools_kinematics import *"
   ]
  },
  {
   "cell_type": "code",
   "execution_count": 28,
   "id": "66828d58",
   "metadata": {},
   "outputs": [],
   "source": [
    "# Constants\n",
    "A = sp.symbols('A}')\n",
    "B = sp.symbols('B')\n",
    "C = sp.symbols('C')\n",
    "l = sp.symbols('l')\n",
    "r = sp.symbols('r')\n",
    "\n",
    "# L_FL = sp.symbols(r'L_{FL}')\n",
    "# L_FR = sp.symbols(r'L_{FR}')\n",
    "# L_RL = sp.symbols(r'L_{RL}')\n",
    "# L_RR = sp.symbols(r'L_{RR}')\n",
    "\n",
    "# alpha_FL = sp.symbols(r'\\alpha_{FL}')\n",
    "# alpha_FR = sp.symbols(r'\\alpha_{FR}')\n",
    "# alpha_RL = sp.symbols(r'\\alpha_{RL}')\n",
    "# alpha_RR = sp.symbols(r'\\alpha_{RR}')\n",
    "\n",
    "beta_FL = sp.symbols(r'\\beta_{FL}')\n",
    "beta_FR = sp.symbols(r'\\beta_{FR}')\n",
    "# beta_RL = sp.symbols(r'\\beta_{RL}')\n",
    "# beta_RR = sp.symbols(r'\\beta_{RR}')\n",
    "\n",
    "vel_FL = sp.symbols(r\"\\dot{\\phi_{FL}}\")\n",
    "vel_FR = sp.symbols(r\"\\dot{\\phi_{FR}}\")\n",
    "vel_RL = sp.symbols(r\"\\dot{\\phi_{RL}}\")\n",
    "vel_RR = sp.symbols(r\"\\dot{\\phi_{R}}\")\n",
    "\n",
    "theta = sp.symbols(r'\\theta')\n",
    "\n",
    "alias = {}\n",
    "\n",
    "# display cos(theta) as c\\theta, sin(theta) as s\\theta\n",
    "alias.update({sp.sin(theta): sp.symbols(r\"s\\theta\"),\n",
    "              sp.cos(theta): sp.symbols(r\"c\\theta\"),\n",
    "              sp.sin(beta_FL): sp.symbols(r\"s\\beta_{FL}\"),\n",
    "              sp.cos(beta_FL): sp.symbols(r\"c\\beta_{FL}\"),\n",
    "              sp.sin(beta_FR): sp.symbols(r\"s\\beta_{FR}\"),\n",
    "              sp.cos(beta_FL): sp.symbols(r\"c\\beta_{FR}\")})"
   ]
  },
  {
   "cell_type": "code",
   "execution_count": 29,
   "id": "f367c175",
   "metadata": {},
   "outputs": [],
   "source": [
    "L_FL = L_FR = B / 2\n",
    "L_RL = L_RR = sp.sqrt(B**2 / 4 + l**2)\n",
    "\n",
    "alpha_FL = sp.pi/2\n",
    "alpha_FR = -sp.pi/2\n",
    "alpha_RL = sp.pi/2 + sp.atan(2*l/B)\n",
    "alpha_RR = -sp.pi/2 - sp.atan(2*l/B)\n",
    "\n",
    "beta_RL = -sp.atan(2*l/B)\n",
    "beta_RR = sp.atan(2*l/B) + sp.pi"
   ]
  },
  {
   "cell_type": "code",
   "execution_count": 30,
   "id": "d66af43c",
   "metadata": {},
   "outputs": [
    {
     "data": {
      "text/latex": [
       "$\\displaystyle M_{rolling}$"
      ],
      "text/plain": [
       "M_rolling"
      ]
     },
     "metadata": {},
     "output_type": "display_data"
    },
    {
     "data": {
      "text/latex": [
       "$\\displaystyle \\left[\\begin{matrix}c\\beta_{FR} & s\\beta_{FL} & - \\frac{B c\\beta_{FR}}{2}\\\\- \\cos{\\left(\\beta_{FR} \\right)} & - s\\beta_{FR} & - \\frac{B \\cos{\\left(\\beta_{FR} \\right)}}{2}\\\\1 & 0 & - \\frac{\\sqrt{B^{2} + 4 l^{2}}}{2 \\sqrt{1 + \\frac{4 l^{2}}{B^{2}}}}\\\\1 & 0 & \\frac{\\sqrt{B^{2} + 4 l^{2}}}{2 \\sqrt{1 + \\frac{4 l^{2}}{B^{2}}}}\\end{matrix}\\right]$"
      ],
      "text/plain": [
       "Matrix([\n",
       "[     c\\beta_{FR},  s\\beta_{FL},                               -B*c\\beta_{FR}/2],\n",
       "[-cos(\\beta_{FR}), -s\\beta_{FR},                           -B*cos(\\beta_{FR})/2],\n",
       "[               1,            0, -sqrt(B**2 + 4*l**2)/(2*sqrt(1 + 4*l**2/B**2))],\n",
       "[               1,            0,  sqrt(B**2 + 4*l**2)/(2*sqrt(1 + 4*l**2/B**2))]])"
      ]
     },
     "metadata": {},
     "output_type": "display_data"
    },
    {
     "data": {
      "text/latex": [
       "$\\displaystyle M_{no-sliding}$"
      ],
      "text/plain": [
       "M_no-sliding"
      ]
     },
     "metadata": {},
     "output_type": "display_data"
    },
    {
     "data": {
      "text/latex": [
       "$\\displaystyle \\left[\\begin{matrix}- s\\beta_{FL} & c\\beta_{FR} & \\frac{B s\\beta_{FL}}{2}\\\\s\\beta_{FR} & - \\cos{\\left(\\beta_{FR} \\right)} & \\frac{B s\\beta_{FR}}{2}\\\\0 & 1 & - \\frac{l \\sqrt{B^{2} + 4 l^{2}}}{B \\sqrt{1 + \\frac{4 l^{2}}{B^{2}}}}\\\\0 & 1 & - \\frac{l \\sqrt{B^{2} + 4 l^{2}}}{B \\sqrt{1 + \\frac{4 l^{2}}{B^{2}}}}\\end{matrix}\\right]$"
      ],
      "text/plain": [
       "Matrix([\n",
       "[-s\\beta_{FL},      c\\beta_{FR},                                  B*s\\beta_{FL}/2],\n",
       "[ s\\beta_{FR}, -cos(\\beta_{FR}),                                  B*s\\beta_{FR}/2],\n",
       "[           0,                1, -l*sqrt(B**2 + 4*l**2)/(B*sqrt(1 + 4*l**2/B**2))],\n",
       "[           0,                1, -l*sqrt(B**2 + 4*l**2)/(B*sqrt(1 + 4*l**2/B**2))]])"
      ]
     },
     "metadata": {},
     "output_type": "display_data"
    }
   ],
   "source": [
    "# rolling condition\n",
    "M_rolling_FL = get_mat_rolling(alpha_FL, beta_FL, L_FL)\n",
    "M_rolling_FR = get_mat_rolling(alpha_FR, beta_FR, L_FR)\n",
    "M_rolling_RL = get_mat_rolling(alpha_RL, beta_RL, L_RL)\n",
    "M_rolling_RR = get_mat_rolling(alpha_RR, beta_RR, L_RR)\n",
    "\n",
    "M_rolling = sp.Matrix([M_rolling_FL, M_rolling_FR,\n",
    "                       M_rolling_RL, M_rolling_RR])\n",
    "symprint('M', '', 'rolling')\n",
    "matprint(M_rolling, alias)\n",
    "\n",
    "# so sliding condition\n",
    "M_no_sliding_FL = get_mat_no_sliding(alpha_FL, beta_FL, L_FL)\n",
    "M_no_sliding_FR = get_mat_no_sliding(alpha_FR, beta_FR, L_FR)\n",
    "M_no_sliding_RL = get_mat_no_sliding(alpha_RL, beta_RL, L_RL)\n",
    "M_no_sliding_RR = get_mat_no_sliding(alpha_RR, beta_RR, L_RR)\n",
    "\n",
    "M_no_sliding = sp.Matrix([M_no_sliding_FL, M_no_sliding_FR,\n",
    "                          M_no_sliding_RL, M_no_sliding_RR])\n",
    "symprint('M', '', 'no-sliding')\n",
    "matprint(M_no_sliding, alias)"
   ]
  },
  {
   "cell_type": "code",
   "execution_count": 31,
   "id": "a7d925b6",
   "metadata": {},
   "outputs": [
    {
     "data": {
      "text/latex": [
       "$\\displaystyle ^0R_{I}$"
      ],
      "text/plain": [
       "^0R_I"
      ]
     },
     "metadata": {},
     "output_type": "display_data"
    },
    {
     "data": {
      "text/latex": [
       "$\\displaystyle \\left[\\begin{matrix}c\\theta & s\\theta & 0\\\\- s\\theta & c\\theta & 0\\\\0 & 0 & 1\\end{matrix}\\right]$"
      ],
      "text/plain": [
       "Matrix([\n",
       "[ c\\theta, s\\theta, 0],\n",
       "[-s\\theta, c\\theta, 0],\n",
       "[       0,       0, 1]])"
      ]
     },
     "metadata": {},
     "output_type": "display_data"
    }
   ],
   "source": [
    "RI0 = rotation(theta, 'z')\n",
    "R0I = RI0.T\n",
    "symprint('R', '0', 'I')\n",
    "matprint(R0I, alias)"
   ]
  },
  {
   "cell_type": "code",
   "execution_count": 15,
   "id": "2c4819b5",
   "metadata": {},
   "outputs": [
    {
     "data": {
      "text/latex": [
       "$\\displaystyle M_{angle}$"
      ],
      "text/plain": [
       "M_angle"
      ]
     },
     "metadata": {},
     "output_type": "display_data"
    },
    {
     "data": {
      "text/latex": [
       "$\\displaystyle \\left[\\begin{matrix}1 & 0 & - \\frac{\\sqrt{B^{2} + 4 l^{2}}}{2 \\sqrt{1 + \\frac{4 l^{2}}{B^{2}}}}\\\\1 & 0 & \\frac{\\sqrt{B^{2} + 4 l^{2}}}{2 \\sqrt{1 + \\frac{4 l^{2}}{B^{2}}}}\\\\0 & 1 & - \\frac{l \\sqrt{B^{2} + 4 l^{2}}}{B \\sqrt{1 + \\frac{4 l^{2}}{B^{2}}}}\\end{matrix}\\right]$"
      ],
      "text/plain": [
       "Matrix([\n",
       "[1, 0,   -sqrt(B**2 + 4*l**2)/(2*sqrt(1 + 4*l**2/B**2))],\n",
       "[1, 0,    sqrt(B**2 + 4*l**2)/(2*sqrt(1 + 4*l**2/B**2))],\n",
       "[0, 1, -l*sqrt(B**2 + 4*l**2)/(B*sqrt(1 + 4*l**2/B**2))]])"
      ]
     },
     "metadata": {},
     "output_type": "display_data"
    },
    {
     "data": {
      "text/latex": [
       "$\\displaystyle M_{r}$"
      ],
      "text/plain": [
       "M_r"
      ]
     },
     "metadata": {},
     "output_type": "display_data"
    },
    {
     "data": {
      "text/latex": [
       "$\\displaystyle \\left[\\begin{matrix}r & 0\\\\0 & r\\\\0 & 0\\end{matrix}\\right]$"
      ],
      "text/plain": [
       "Matrix([\n",
       "[r, 0],\n",
       "[0, r],\n",
       "[0, 0]])"
      ]
     },
     "metadata": {},
     "output_type": "display_data"
    }
   ],
   "source": [
    "M_angle = sp.Matrix([M_rolling_RL, M_rolling_RR, M_no_sliding_RL])\n",
    "symprint('M', '', 'angle')\n",
    "matprint(M_angle)\n",
    "\n",
    "M_r = sp.eye(2)*r\n",
    "M_r = M_r.row_insert(len(M_r), sp.zeros(1, 2))\n",
    "symprint('M', '', 'r')\n",
    "matprint(M_r)\n",
    "\n",
    "M_vel = sp.Matrix([vel_FL, vel_FR, vel_RL, vel_RR])"
   ]
  },
  {
   "cell_type": "markdown",
   "id": "9635e759",
   "metadata": {},
   "source": [
    "## Forward Kinematics"
   ]
  },
  {
   "cell_type": "code",
   "execution_count": 53,
   "id": "a48f9fbe",
   "metadata": {},
   "outputs": [
    {
     "data": {
      "text/latex": [
       "$\\displaystyle \\left[\\begin{matrix}\\frac{r}{2} & \\frac{r}{2}\\\\- \\frac{l r}{B} & \\frac{l r}{B}\\\\- \\frac{r \\sqrt{1 + \\frac{4 l^{2}}{B^{2}}}}{\\sqrt{B^{2} + 4 l^{2}}} & \\frac{r \\sqrt{1 + \\frac{4 l^{2}}{B^{2}}}}{\\sqrt{B^{2} + 4 l^{2}}}\\end{matrix}\\right]$"
      ],
      "text/plain": [
       "Matrix([\n",
       "[                                         r/2,                                         r/2],\n",
       "[                                      -l*r/B,                                       l*r/B],\n",
       "[-r*sqrt(1 + 4*l**2/B**2)/sqrt(B**2 + 4*l**2), r*sqrt(1 + 4*l**2/B**2)/sqrt(B**2 + 4*l**2)]])"
      ]
     },
     "metadata": {},
     "output_type": "display_data"
    },
    {
     "data": {
      "text/latex": [
       "$\\displaystyle \\left[\\begin{matrix}\\frac{r \\left(\\dot{\\phi_{RL}} + \\dot{\\phi_{R}}\\right)}{2}\\\\\\frac{l r \\left(- \\dot{\\phi_{RL}} + \\dot{\\phi_{R}}\\right)}{B}\\\\\\frac{r \\sqrt{\\frac{B^{2} + 4 l^{2}}{B^{2}}} \\left(- \\dot{\\phi_{RL}} + \\dot{\\phi_{R}}\\right)}{\\sqrt{B^{2} + 4 l^{2}}}\\end{matrix}\\right]$"
      ],
      "text/plain": [
       "Matrix([\n",
       "[                                              r*(\\dot{\\phi_{RL}} + \\dot{\\phi_{R}})/2],\n",
       "[                                           l*r*(-\\dot{\\phi_{RL}} + \\dot{\\phi_{R}})/B],\n",
       "[r*sqrt((B**2 + 4*l**2)/B**2)*(-\\dot{\\phi_{RL}} + \\dot{\\phi_{R}})/sqrt(B**2 + 4*l**2)]])"
      ]
     },
     "metadata": {},
     "output_type": "display_data"
    },
    {
     "data": {
      "text/latex": [
       "$\\displaystyle M_{forward}$"
      ],
      "text/plain": [
       "M_forward"
      ]
     },
     "metadata": {},
     "output_type": "display_data"
    },
    {
     "data": {
      "text/latex": [
       "$\\displaystyle \\left[\\begin{matrix}\\frac{r \\left(B c\\theta \\left(\\dot{\\phi_{RL}} + \\dot{\\phi_{R}}\\right) + 2 l s\\theta \\left(\\dot{\\phi_{RL}} - \\dot{\\phi_{R}}\\right)\\right)}{2 B}\\\\\\frac{r \\left(B s\\theta \\left(\\dot{\\phi_{RL}} + \\dot{\\phi_{R}}\\right) - 2 c\\theta l \\left(\\dot{\\phi_{RL}} - \\dot{\\phi_{R}}\\right)\\right)}{2 B}\\\\\\frac{r \\sqrt{\\frac{B^{2} + 4 l^{2}}{B^{2}}} \\left(- \\dot{\\phi_{RL}} + \\dot{\\phi_{R}}\\right)}{\\sqrt{B^{2} + 4 l^{2}}}\\end{matrix}\\right]$"
      ],
      "text/plain": [
       "Matrix([\n",
       "[r*(B*c\\theta*(\\dot{\\phi_{RL}} + \\dot{\\phi_{R}}) + 2*l*s\\theta*(\\dot{\\phi_{RL}} - \\dot{\\phi_{R}}))/(2*B)],\n",
       "[r*(B*s\\theta*(\\dot{\\phi_{RL}} + \\dot{\\phi_{R}}) - 2*c\\theta*l*(\\dot{\\phi_{RL}} - \\dot{\\phi_{R}}))/(2*B)],\n",
       "[                   r*sqrt((B**2 + 4*l**2)/B**2)*(-\\dot{\\phi_{RL}} + \\dot{\\phi_{R}})/sqrt(B**2 + 4*l**2)]])"
      ]
     },
     "metadata": {},
     "output_type": "display_data"
    }
   ],
   "source": [
    "M_temp = M_angle.inv().multiply(M_r)\n",
    "matprint(sp.simplify(M_temp))\n",
    "\n",
    "M_temp = M_temp.multiply(sp.Matrix([vel_RL, vel_RR]))\n",
    "matprint(sp.simplify(M_temp))\n",
    "\n",
    "M_fwd = RI0.multiply(M_temp)\n",
    "M_fwd = sp.simplify(M_fwd)\n",
    "symprint('M', '', 'forward')\n",
    "matprint(M_fwd, alias)"
   ]
  },
  {
   "cell_type": "markdown",
   "id": "98524926",
   "metadata": {},
   "source": [
    "## Inverse Kinematics"
   ]
  },
  {
   "cell_type": "code",
   "execution_count": 51,
   "id": "17d7e660",
   "metadata": {},
   "outputs": [
    {
     "data": {
      "text/latex": [
       "$\\displaystyle \\left[\\begin{matrix}r & 0 & - \\frac{r \\sqrt{B^{2} + 4 l^{2}}}{2 \\sqrt{1 + \\frac{4 l^{2}}{B^{2}}}}\\\\r & 0 & \\frac{r \\sqrt{B^{2} + 4 l^{2}}}{2 \\sqrt{1 + \\frac{4 l^{2}}{B^{2}}}}\\end{matrix}\\right]$"
      ],
      "text/plain": [
       "Matrix([\n",
       "[r, 0, -r*sqrt(B**2 + 4*l**2)/(2*sqrt(1 + 4*l**2/B**2))],\n",
       "[r, 0,  r*sqrt(B**2 + 4*l**2)/(2*sqrt(1 + 4*l**2/B**2))]])"
      ]
     },
     "metadata": {},
     "output_type": "display_data"
    },
    {
     "data": {
      "text/latex": [
       "$\\displaystyle \\left[\\begin{matrix}\\frac{1}{r} & 0 & - \\frac{\\sqrt{B^{2} + 4 l^{2}}}{2 r \\sqrt{1 + \\frac{4 l^{2}}{B^{2}}}}\\\\\\frac{1}{r} & 0 & \\frac{\\sqrt{B^{2} + 4 l^{2}}}{2 r \\sqrt{1 + \\frac{4 l^{2}}{B^{2}}}}\\end{matrix}\\right]$"
      ],
      "text/plain": [
       "Matrix([\n",
       "[1/r, 0, -sqrt(B**2 + 4*l**2)/(2*r*sqrt(1 + 4*l**2/B**2))],\n",
       "[1/r, 0,  sqrt(B**2 + 4*l**2)/(2*r*sqrt(1 + 4*l**2/B**2))]])"
      ]
     },
     "metadata": {},
     "output_type": "display_data"
    },
    {
     "data": {
      "text/latex": [
       "$\\displaystyle M_{inverse}$"
      ],
      "text/plain": [
       "M_inverse"
      ]
     },
     "metadata": {},
     "output_type": "display_data"
    },
    {
     "data": {
      "text/latex": [
       "$\\displaystyle \\left[\\begin{matrix}\\frac{c\\theta}{r} & \\frac{s\\theta}{r} & - \\frac{\\sqrt{B^{2} + 4 l^{2}}}{2 r \\sqrt{1 + \\frac{4 l^{2}}{B^{2}}}}\\\\\\frac{c\\theta}{r} & \\frac{s\\theta}{r} & \\frac{\\sqrt{B^{2} + 4 l^{2}}}{2 r \\sqrt{1 + \\frac{4 l^{2}}{B^{2}}}}\\end{matrix}\\right]$"
      ],
      "text/plain": [
       "Matrix([\n",
       "[c\\theta/r, s\\theta/r, -sqrt(B**2 + 4*l**2)/(2*r*sqrt(1 + 4*l**2/B**2))],\n",
       "[c\\theta/r, s\\theta/r,  sqrt(B**2 + 4*l**2)/(2*r*sqrt(1 + 4*l**2/B**2))]])"
      ]
     },
     "metadata": {},
     "output_type": "display_data"
    }
   ],
   "source": [
    "M_temp_left = M_r.T.multiply(M_r)\n",
    "\n",
    "M_temp_right = M_r.T.multiply(M_angle)\n",
    "matprint(sp.simplify(M_temp_right))\n",
    "\n",
    "M_temp = M_temp_left.inv().multiply(M_temp_right)\n",
    "matprint(sp.simplify(M_temp))\n",
    "\n",
    "M_inverse = M_temp.multiply(R0I)\n",
    "M_inverse = sp.simplify(M_inverse)\n",
    "symprint('M', '', 'inverse')\n",
    "matprint(M_inverse, alias)"
   ]
  },
  {
   "cell_type": "code",
   "execution_count": null,
   "id": "b9f0656b",
   "metadata": {},
   "outputs": [],
   "source": []
  }
 ],
 "metadata": {
  "kernelspec": {
   "display_name": "Python 3 (ipykernel)",
   "language": "python",
   "name": "python3"
  },
  "language_info": {
   "codemirror_mode": {
    "name": "ipython",
    "version": 3
   },
   "file_extension": ".py",
   "mimetype": "text/x-python",
   "name": "python",
   "nbconvert_exporter": "python",
   "pygments_lexer": "ipython3",
   "version": "3.9.13"
  }
 },
 "nbformat": 4,
 "nbformat_minor": 5
}
