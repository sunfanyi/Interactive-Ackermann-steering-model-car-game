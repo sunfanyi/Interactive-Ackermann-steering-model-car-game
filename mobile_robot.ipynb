{
 "cells": [
  {
   "cell_type": "code",
   "execution_count": 1,
   "id": "8ec38f13",
   "metadata": {},
   "outputs": [],
   "source": [
    "import numpy as np\n",
    "import sympy as sp\n",
    "import matplotlib.pyplot as plt\n",
    "\n",
    "from car import Car\n",
    "from tools_cv import *\n",
    "from tools_kinematics import *"
   ]
  },
  {
   "cell_type": "code",
   "execution_count": 36,
   "id": "70ece444",
   "metadata": {},
   "outputs": [],
   "source": [
    "# Constants\n",
    "A = get_sym('A')  # car length\n",
    "B = get_sym('B')  # car width / track\n",
    "C = get_sym('C')  # car height\n",
    "l = get_sym('l')  # wheelbase\n",
    "r = get_sym('r')  # wheel radius\n",
    "R = get_sym('R')  # turning radius (Ackerman)\n",
    "\n",
    "beta_FL = get_sym(r'\\beta', 'FL')\n",
    "beta_FR = get_sym(r'\\beta', 'FR')\n",
    "\n",
    "vel_FL = get_sym(r'\\phi', 'FL', dot=1)\n",
    "vel_FR = get_sym(r'\\phi', 'FR', dot=1)\n",
    "vel_RL = get_sym(r'\\phi', 'RL', dot=1)\n",
    "vel_RR = get_sym(r'\\phi', 'RR', dot=1)\n",
    "\n",
    "theta = get_sym(r'\\theta')\n",
    "theta_dot = get_sym(r'\\theta', dot=1)\n",
    "\n",
    "alias = {}\n",
    "\n",
    "# display cos(theta) as c\\theta, sin(theta) as s\\theta\n",
    "alias.update({sp.sin(theta): sp.symbols(r\"s\\theta\"),\n",
    "              sp.cos(theta): sp.symbols(r\"c\\theta\"),\n",
    "              sp.sin(beta_FL): sp.symbols(r\"s\\beta_{FL}\"),\n",
    "              sp.cos(beta_FL): sp.symbols(r\"c\\beta_{FL}\"),\n",
    "              sp.sin(beta_FR): sp.symbols(r\"s\\beta_{FR}\"),\n",
    "              sp.cos(beta_FL): sp.symbols(r\"c\\beta_{FR}\")})"
   ]
  },
  {
   "cell_type": "code",
   "execution_count": 38,
   "id": "f4a17a22",
   "metadata": {},
   "outputs": [],
   "source": [
    "L_FL = L_FR = B / 2\n",
    "L_RL = L_RR = sp.sqrt(B**2 / 4 + l**2)\n",
    "\n",
    "alpha_FL = sp.pi/2\n",
    "alpha_FR = -sp.pi/2\n",
    "alpha_RL = sp.pi/2 + sp.atan(2*l/B)\n",
    "alpha_RR = -sp.pi/2 - sp.atan(2*l/B)\n",
    "\n",
    "beta_RL = -sp.atan(2*l/B)\n",
    "beta_RR = sp.atan(2*l/B) + sp.pi"
   ]
  },
  {
   "cell_type": "code",
   "execution_count": 39,
   "id": "98043a4c",
   "metadata": {},
   "outputs": [
    {
     "data": {
      "text/latex": [
       "$\\displaystyle M_{rolling}=\\left[\\begin{matrix}c\\beta_{FR} & s\\beta_{FL} & - \\frac{B c\\beta_{FR}}{2}\\\\- \\cos{\\left(\\beta_{FR} \\right)} & - s\\beta_{FR} & - \\frac{B \\cos{\\left(\\beta_{FR} \\right)}}{2}\\\\1 & 0 & - \\frac{\\sqrt{B^{2} + 4 l^{2}}}{2 \\sqrt{1 + \\frac{4 l^{2}}{B^{2}}}}\\\\1 & 0 & \\frac{\\sqrt{B^{2} + 4 l^{2}}}{2 \\sqrt{1 + \\frac{4 l^{2}}{B^{2}}}}\\end{matrix}\\right]$"
      ],
      "text/plain": [
       "<IPython.core.display.Math object>"
      ]
     },
     "metadata": {},
     "output_type": "display_data"
    },
    {
     "data": {
      "text/latex": [
       "$\\displaystyle M_{no-sliding}=\\left[\\begin{matrix}- s\\beta_{FL} & c\\beta_{FR} & \\frac{B s\\beta_{FL}}{2}\\\\s\\beta_{FR} & - \\cos{\\left(\\beta_{FR} \\right)} & \\frac{B s\\beta_{FR}}{2}\\\\0 & 1 & - \\frac{l \\sqrt{B^{2} + 4 l^{2}}}{B \\sqrt{1 + \\frac{4 l^{2}}{B^{2}}}}\\\\0 & 1 & - \\frac{l \\sqrt{B^{2} + 4 l^{2}}}{B \\sqrt{1 + \\frac{4 l^{2}}{B^{2}}}}\\end{matrix}\\right]$"
      ],
      "text/plain": [
       "<IPython.core.display.Math object>"
      ]
     },
     "metadata": {},
     "output_type": "display_data"
    }
   ],
   "source": [
    "# rolling condition\n",
    "M_rolling_FL = get_mat_rolling(alpha_FL, beta_FL, L_FL)\n",
    "M_rolling_FR = get_mat_rolling(alpha_FR, beta_FR, L_FR)\n",
    "M_rolling_RL = get_mat_rolling(alpha_RL, beta_RL, L_RL)\n",
    "M_rolling_RR = get_mat_rolling(alpha_RR, beta_RR, L_RR)\n",
    "\n",
    "M_rolling = sp.Matrix([M_rolling_FL, M_rolling_FR,\n",
    "                       M_rolling_RL, M_rolling_RR])\n",
    "eqnprint(get_sym('M', 'rolling'), alias, M_rolling)\n",
    "\n",
    "# so sliding condition\n",
    "M_no_sliding_FL = get_mat_no_sliding(alpha_FL, beta_FL, L_FL)\n",
    "M_no_sliding_FR = get_mat_no_sliding(alpha_FR, beta_FR, L_FR)\n",
    "M_no_sliding_RL = get_mat_no_sliding(alpha_RL, beta_RL, L_RL)\n",
    "M_no_sliding_RR = get_mat_no_sliding(alpha_RR, beta_RR, L_RR)\n",
    "\n",
    "M_no_sliding = sp.Matrix([M_no_sliding_FL, M_no_sliding_FR,\n",
    "                          M_no_sliding_RL, M_no_sliding_RR])\n",
    "eqnprint(get_sym('M', 'no-sliding'), alias, M_no_sliding)"
   ]
  },
  {
   "cell_type": "code",
   "execution_count": 40,
   "id": "cb437384",
   "metadata": {},
   "outputs": [
    {
     "data": {
      "text/latex": [
       "$\\displaystyle ^{0}R_{I}=\\left[\\begin{matrix}c\\theta & s\\theta & 0\\\\- s\\theta & c\\theta & 0\\\\0 & 0 & 1\\end{matrix}\\right]$"
      ],
      "text/plain": [
       "<IPython.core.display.Math object>"
      ]
     },
     "metadata": {},
     "output_type": "display_data"
    }
   ],
   "source": [
    "RI0 = rotation(theta, 'z')\n",
    "R0I = RI0.T\n",
    "eqnprint(get_sym('R', 'I', '0'), alias, R0I)"
   ]
  },
  {
   "cell_type": "code",
   "execution_count": 41,
   "id": "f057040b",
   "metadata": {},
   "outputs": [
    {
     "data": {
      "text/latex": [
       "$\\displaystyle M_{angle}=\\left[\\begin{matrix}1 & 0 & - \\frac{\\sqrt{B^{2} + 4 l^{2}}}{2 \\sqrt{1 + \\frac{4 l^{2}}{B^{2}}}}\\\\1 & 0 & \\frac{\\sqrt{B^{2} + 4 l^{2}}}{2 \\sqrt{1 + \\frac{4 l^{2}}{B^{2}}}}\\\\0 & 1 & - \\frac{l \\sqrt{B^{2} + 4 l^{2}}}{B \\sqrt{1 + \\frac{4 l^{2}}{B^{2}}}}\\end{matrix}\\right]$"
      ],
      "text/plain": [
       "<IPython.core.display.Math object>"
      ]
     },
     "metadata": {},
     "output_type": "display_data"
    },
    {
     "data": {
      "text/latex": [
       "$\\displaystyle M_{r}=\\left[\\begin{matrix}r & 0\\\\0 & r\\\\0 & 0\\end{matrix}\\right]$"
      ],
      "text/plain": [
       "<IPython.core.display.Math object>"
      ]
     },
     "metadata": {},
     "output_type": "display_data"
    }
   ],
   "source": [
    "M_angle = sp.Matrix([M_rolling_RL, M_rolling_RR, M_no_sliding_RL])\n",
    "eqnprint(get_sym('M', 'angle'), alias, M_angle)\n",
    "\n",
    "M_r = sp.eye(2)*r\n",
    "M_r = M_r.row_insert(len(M_r), sp.zeros(1, 2))\n",
    "eqnprint(get_sym('M', 'r'), alias, M_r)\n",
    "\n",
    "M_vel = sp.Matrix([vel_FL, vel_FR, vel_RL, vel_RR])"
   ]
  },
  {
   "cell_type": "markdown",
   "id": "b36d5310",
   "metadata": {},
   "source": [
    "## Forward Kinematics"
   ]
  },
  {
   "cell_type": "code",
   "execution_count": 42,
   "id": "e661116a",
   "metadata": {},
   "outputs": [
    {
     "data": {
      "text/latex": [
       "$\\displaystyle \\left[\\begin{matrix}\\frac{r}{2} & \\frac{r}{2}\\\\- \\frac{l r}{B} & \\frac{l r}{B}\\\\- \\frac{r \\sqrt{1 + \\frac{4 l^{2}}{B^{2}}}}{\\sqrt{B^{2} + 4 l^{2}}} & \\frac{r \\sqrt{1 + \\frac{4 l^{2}}{B^{2}}}}{\\sqrt{B^{2} + 4 l^{2}}}\\end{matrix}\\right]$"
      ],
      "text/plain": [
       "Matrix([\n",
       "[                                         r/2,                                         r/2],\n",
       "[                                      -l*r/B,                                       l*r/B],\n",
       "[-r*sqrt(1 + 4*l**2/B**2)/sqrt(B**2 + 4*l**2), r*sqrt(1 + 4*l**2/B**2)/sqrt(B**2 + 4*l**2)]])"
      ]
     },
     "metadata": {},
     "output_type": "display_data"
    },
    {
     "data": {
      "text/latex": [
       "$\\displaystyle \\left[\\begin{matrix}\\frac{r \\left(\\dot{\\phi_{RL}} + \\dot{\\phi_{RR}}\\right)}{2}\\\\\\frac{l r \\left(- \\dot{\\phi_{RL}} + \\dot{\\phi_{RR}}\\right)}{B}\\\\\\frac{r \\sqrt{\\frac{B^{2} + 4 l^{2}}{B^{2}}} \\left(- \\dot{\\phi_{RL}} + \\dot{\\phi_{RR}}\\right)}{\\sqrt{B^{2} + 4 l^{2}}}\\end{matrix}\\right]$"
      ],
      "text/plain": [
       "Matrix([\n",
       "[                                              r*(\\dot{\\phi_{RL}} + \\dot{\\phi_{RR}})/2],\n",
       "[                                           l*r*(-\\dot{\\phi_{RL}} + \\dot{\\phi_{RR}})/B],\n",
       "[r*sqrt((B**2 + 4*l**2)/B**2)*(-\\dot{\\phi_{RL}} + \\dot{\\phi_{RR}})/sqrt(B**2 + 4*l**2)]])"
      ]
     },
     "metadata": {},
     "output_type": "display_data"
    },
    {
     "data": {
      "text/latex": [
       "$\\displaystyle M_{forward}=\\left[\\begin{matrix}\\frac{r \\left(B c\\theta \\left(\\dot{\\phi_{RL}} + \\dot{\\phi_{RR}}\\right) + 2 l s\\theta \\left(\\dot{\\phi_{RL}} - \\dot{\\phi_{RR}}\\right)\\right)}{2 B}\\\\\\frac{r \\left(B s\\theta \\left(\\dot{\\phi_{RL}} + \\dot{\\phi_{RR}}\\right) - 2 c\\theta l \\left(\\dot{\\phi_{RL}} - \\dot{\\phi_{RR}}\\right)\\right)}{2 B}\\\\\\frac{r \\sqrt{\\frac{B^{2} + 4 l^{2}}{B^{2}}} \\left(- \\dot{\\phi_{RL}} + \\dot{\\phi_{RR}}\\right)}{\\sqrt{B^{2} + 4 l^{2}}}\\end{matrix}\\right]$"
      ],
      "text/plain": [
       "<IPython.core.display.Math object>"
      ]
     },
     "metadata": {},
     "output_type": "display_data"
    }
   ],
   "source": [
    "M_temp = M_angle.inv().multiply(M_r)\n",
    "matprint(sp.simplify(M_temp))\n",
    "\n",
    "M_temp = M_temp.multiply(sp.Matrix([vel_RL, vel_RR]))\n",
    "matprint(sp.simplify(M_temp))\n",
    "\n",
    "M_fwd = RI0.multiply(M_temp)\n",
    "M_fwd = sp.simplify(M_fwd)\n",
    "eqnprint(get_sym('M', 'forward'), alias, M_fwd)"
   ]
  },
  {
   "cell_type": "markdown",
   "id": "c71099b4",
   "metadata": {},
   "source": [
    "## Inverse Kinematics"
   ]
  },
  {
   "cell_type": "code",
   "execution_count": 43,
   "id": "95c92f49",
   "metadata": {},
   "outputs": [
    {
     "data": {
      "text/latex": [
       "$\\displaystyle \\left[\\begin{matrix}r & 0 & - \\frac{r \\sqrt{B^{2} + 4 l^{2}}}{2 \\sqrt{1 + \\frac{4 l^{2}}{B^{2}}}}\\\\r & 0 & \\frac{r \\sqrt{B^{2} + 4 l^{2}}}{2 \\sqrt{1 + \\frac{4 l^{2}}{B^{2}}}}\\end{matrix}\\right]$"
      ],
      "text/plain": [
       "Matrix([\n",
       "[r, 0, -r*sqrt(B**2 + 4*l**2)/(2*sqrt(1 + 4*l**2/B**2))],\n",
       "[r, 0,  r*sqrt(B**2 + 4*l**2)/(2*sqrt(1 + 4*l**2/B**2))]])"
      ]
     },
     "metadata": {},
     "output_type": "display_data"
    },
    {
     "data": {
      "text/latex": [
       "$\\displaystyle \\left[\\begin{matrix}\\frac{1}{r} & 0 & - \\frac{\\sqrt{B^{2} + 4 l^{2}}}{2 r \\sqrt{1 + \\frac{4 l^{2}}{B^{2}}}}\\\\\\frac{1}{r} & 0 & \\frac{\\sqrt{B^{2} + 4 l^{2}}}{2 r \\sqrt{1 + \\frac{4 l^{2}}{B^{2}}}}\\end{matrix}\\right]$"
      ],
      "text/plain": [
       "Matrix([\n",
       "[1/r, 0, -sqrt(B**2 + 4*l**2)/(2*r*sqrt(1 + 4*l**2/B**2))],\n",
       "[1/r, 0,  sqrt(B**2 + 4*l**2)/(2*r*sqrt(1 + 4*l**2/B**2))]])"
      ]
     },
     "metadata": {},
     "output_type": "display_data"
    },
    {
     "data": {
      "text/latex": [
       "$\\displaystyle M_{inverse}=\\left[\\begin{matrix}\\frac{c\\theta}{r} & \\frac{s\\theta}{r} & - \\frac{\\sqrt{B^{2} + 4 l^{2}}}{2 r \\sqrt{1 + \\frac{4 l^{2}}{B^{2}}}}\\\\\\frac{c\\theta}{r} & \\frac{s\\theta}{r} & \\frac{\\sqrt{B^{2} + 4 l^{2}}}{2 r \\sqrt{1 + \\frac{4 l^{2}}{B^{2}}}}\\end{matrix}\\right]$"
      ],
      "text/plain": [
       "<IPython.core.display.Math object>"
      ]
     },
     "metadata": {},
     "output_type": "display_data"
    }
   ],
   "source": [
    "M_temp_left = M_r.T.multiply(M_r)\n",
    "\n",
    "M_temp_right = M_r.T.multiply(M_angle)\n",
    "matprint(sp.simplify(M_temp_right))\n",
    "\n",
    "M_temp = M_temp_left.inv().multiply(M_temp_right)\n",
    "matprint(sp.simplify(M_temp))\n",
    "\n",
    "M_inverse = M_temp.multiply(R0I)\n",
    "M_inverse = sp.simplify(M_inverse)\n",
    "eqnprint(get_sym('M', 'inverse'), alias, M_inverse)"
   ]
  },
  {
   "cell_type": "markdown",
   "id": "e2620b6b",
   "metadata": {},
   "source": [
    "From above, by knowing $\\dot{^IP}$, we can know the values of $\\dot{\\phi_{RL}}$ and $\\dot{\\phi_{RR}}$.\n",
    "\n",
    "We can then use them to solve $R$, $\\beta_{FL}$, $\\beta_{FL}$, $\\dot{\\phi_{FL}}$ and $\\dot{\\phi_{FR}}$."
   ]
  },
  {
   "cell_type": "code",
   "execution_count": 46,
   "id": "68edf06a",
   "metadata": {},
   "outputs": [
    {
     "data": {
      "text/latex": [
       "$\\displaystyle R=\\frac{B \\left(\\dot{\\phi_{RL}} + \\dot{\\phi_{RR}}\\right)}{2 \\left(\\dot{\\phi_{RL}} - \\dot{\\phi_{RR}}\\right)}$"
      ],
      "text/plain": [
       "<IPython.core.display.Math object>"
      ]
     },
     "metadata": {},
     "output_type": "display_data"
    },
    {
     "data": {
      "text/latex": [
       "$\\displaystyle \\beta_{FL}=- \\operatorname{atan}{\\left(\\frac{l}{\\frac{B}{2} + R} \\right)}$"
      ],
      "text/plain": [
       "<IPython.core.display.Math object>"
      ]
     },
     "metadata": {},
     "output_type": "display_data"
    },
    {
     "data": {
      "text/latex": [
       "$\\displaystyle \\beta_{FR}=- \\operatorname{atan}{\\left(\\frac{l}{- \\frac{B}{2} + R} \\right)}$"
      ],
      "text/plain": [
       "<IPython.core.display.Math object>"
      ]
     },
     "metadata": {},
     "output_type": "display_data"
    },
    {
     "data": {
      "text/latex": [
       "$\\displaystyle \\dot{\\phi_{FL}}=\\frac{\\dot{\\theta} \\sqrt{l^{2} + \\left(\\frac{B}{2} + R\\right)^{2}}}{r}$"
      ],
      "text/plain": [
       "<IPython.core.display.Math object>"
      ]
     },
     "metadata": {},
     "output_type": "display_data"
    },
    {
     "data": {
      "text/latex": [
       "$\\displaystyle \\dot{\\phi_{FR}}=\\frac{\\dot{\\theta} \\sqrt{l^{2} + \\left(- \\frac{B}{2} + R\\right)^{2}}}{r}$"
      ],
      "text/plain": [
       "<IPython.core.display.Math object>"
      ]
     },
     "metadata": {},
     "output_type": "display_data"
    }
   ],
   "source": [
    "# Turning radius\n",
    "R_inv = B/2 * ((vel_RL + vel_RR) / (vel_RL - vel_RR))\n",
    "eqnprint(R, alias, R_inv)\n",
    "\n",
    "# front wheels beta\n",
    "beta_FL_inv = -sp.atan(l / (R + B/2))\n",
    "eqnprint(beta_FL, alias, beta_FL_inv)\n",
    "beta_FR_inv = -sp.atan(l / (R - B/2))\n",
    "eqnprint(beta_FR, alias, beta_FR_inv)\n",
    "\n",
    "# front wheels speed\n",
    "vel_FL_inv = theta_dot * sp.sqrt(l**2 + (R+B/2)**2) / r\n",
    "eqnprint(vel_FL, alias, vel_FL_inv)\n",
    "vel_FR_inv = theta_dot * sp.sqrt(l**2 + (R-B/2)**2) / r\n",
    "eqnprint(vel_FR, alias, vel_FR_inv)"
   ]
  },
  {
   "cell_type": "code",
   "execution_count": null,
   "id": "88b8c181",
   "metadata": {},
   "outputs": [],
   "source": []
  }
 ],
 "metadata": {
  "kernelspec": {
   "display_name": "Python 3 (ipykernel)",
   "language": "python",
   "name": "python3"
  },
  "language_info": {
   "codemirror_mode": {
    "name": "ipython",
    "version": 3
   },
   "file_extension": ".py",
   "mimetype": "text/x-python",
   "name": "python",
   "nbconvert_exporter": "python",
   "pygments_lexer": "ipython3",
   "version": "3.9.13"
  }
 },
 "nbformat": 4,
 "nbformat_minor": 5
}
