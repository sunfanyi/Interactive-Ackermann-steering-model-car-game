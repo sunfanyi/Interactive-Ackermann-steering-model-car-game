{
 "cells": [
  {
   "cell_type": "code",
   "execution_count": 1,
   "id": "7c56eed5",
   "metadata": {},
   "outputs": [],
   "source": [
    "import numpy as np\n",
    "import sympy as sp\n",
    "import matplotlib.pyplot as plt\n",
    "\n",
    "from tools_cv import *\n",
    "from tools_kinematics import *"
   ]
  },
  {
   "cell_type": "code",
   "execution_count": 2,
   "id": "ddef10e0",
   "metadata": {},
   "outputs": [],
   "source": [
    "# Constants\n",
    "A = get_sym('A')  # car length\n",
    "B = get_sym('B')  # car width / track\n",
    "C = get_sym('C')  # car height\n",
    "l = get_sym('l')  # wheelbase\n",
    "r = get_sym('r')  # wheel radius\n",
    "R = get_sym('R')  # turning radius (Ackerman)\n",
    "\n",
    "X = get_sym(r'X')\n",
    "X_dot = get_sym(r'X', dot=1)\n",
    "\n",
    "Y = get_sym(r'Y')\n",
    "Y_dot = get_sym(r'Y', dot=1)\n",
    "\n",
    "Z = get_sym(r'Z')\n",
    "Z_dot = get_sym(r'Z', dot=1)\n",
    "\n",
    "theta = get_sym(r'\\theta')\n",
    "theta_dot = get_sym(r'\\theta', dot=1)\n",
    "\n",
    "alias = {}\n",
    "\n",
    "# display cos(theta) as c\\theta, sin(theta) as s\\theta\n",
    "alias.update({\n",
    "    sp.sin(theta): sp.symbols(r\"s\\theta\"),\n",
    "    sp.cos(theta): sp.symbols(r\"c\\theta\"),\n",
    "})"
   ]
  },
  {
   "cell_type": "code",
   "execution_count": 3,
   "id": "9b998aaf",
   "metadata": {},
   "outputs": [],
   "source": [
    "wheels = ['FL', 'FR', 'RL', 'RR']\n",
    "L_FL = L_FR = B / 2\n",
    "L_RL = L_RR = sp.sqrt(B**2 / 4 + l**2)\n",
    "all_L = [L_FL, L_FR, L_RL, L_RR]\n",
    "\n",
    "for wheel in wheels:\n",
    "    alpha = get_sym(r'\\alpha', wheel)\n",
    "    exec(f\"alpha_{wheel} = alpha\")\n",
    "    \n",
    "    beta = get_sym(r'\\beta', wheel)\n",
    "    exec(f\"beta_{wheel} = beta\")\n",
    "    \n",
    "    phi = get_sym(r'\\phi', wheel, dot=1)\n",
    "    exec(f\"phi_{wheel} = phi\")\n",
    "    \n",
    "    # display cos(beta) as c\\theta, sin(beta) as s\\theta\n",
    "    alias.update({\n",
    "        sp.sin(beta): sp.symbols(r\"s\\beta_{%s}\" % wheel),\n",
    "        sp.cos(beta): sp.symbols(r\"c\\beta_{%s}\" % wheel),\n",
    "    })"
   ]
  },
  {
   "cell_type": "code",
   "execution_count": 4,
   "id": "d626b90f",
   "metadata": {},
   "outputs": [],
   "source": [
    "# Overwrite constants\n",
    "alpha_FL = sp.pi/2\n",
    "alpha_FR = -sp.pi/2\n",
    "alpha_RL = sp.pi/2 + sp.atan(2*l/B)\n",
    "alpha_RR = -sp.pi/2 - sp.atan(2*l/B)\n",
    "\n",
    "beta_RL = -sp.atan(2*l/B)\n",
    "beta_RR = sp.atan(2*l/B) + sp.pi"
   ]
  },
  {
   "cell_type": "code",
   "execution_count": 5,
   "id": "70d796b8",
   "metadata": {},
   "outputs": [
    {
     "data": {
      "text/latex": [
       "$\\displaystyle ^{0}R_{I}=\\left[\\begin{matrix}c\\theta & s\\theta & 0\\\\- s\\theta & c\\theta & 0\\\\0 & 0 & 1\\end{matrix}\\right]$"
      ],
      "text/plain": [
       "<IPython.core.display.Math object>"
      ]
     },
     "metadata": {},
     "output_type": "display_data"
    },
    {
     "data": {
      "text/latex": [
       "$\\displaystyle \\dot{^IP}=\\left[\\begin{matrix}\\dot{X}\\\\\\dot{Y}\\\\\\dot{\\theta}\\end{matrix}\\right]$"
      ],
      "text/plain": [
       "<IPython.core.display.Math object>"
      ]
     },
     "metadata": {},
     "output_type": "display_data"
    }
   ],
   "source": [
    "RI0 = rotation(theta, 'z')\n",
    "R0I = RI0.T\n",
    "R0I_sym = get_sym('R', 'I', '0')\n",
    "RI0_sym = get_sym('R', '0', 'I')\n",
    "eqnprint(R0I_sym, alias, R0I)\n",
    "\n",
    "P_dot = sp.Matrix([X_dot, Y_dot, theta_dot])\n",
    "P_sym = get_sym('P', '', 'I', dot=1)\n",
    "eqnprint(P_sym, alias, P_dot)"
   ]
  },
  {
   "cell_type": "code",
   "execution_count": 6,
   "id": "540848fb",
   "metadata": {},
   "outputs": [
    {
     "name": "stdout",
     "output_type": "stream",
     "text": [
      "Rolling condition:\n"
     ]
    },
    {
     "data": {
      "text/latex": [
       "$\\displaystyle {\\left[\\begin{matrix}c\\beta_{FL} & s\\beta_{FL} & - \\frac{B c\\beta_{FL}}{2}\\\\- c\\beta_{FR} & - s\\beta_{FR} & - \\frac{B c\\beta_{FR}}{2}\\\\1 & 0 & - \\frac{\\sqrt{B^{2} + 4 l^{2}}}{2 \\sqrt{1 + \\frac{4 l^{2}}{B^{2}}}}\\\\1 & 0 & \\frac{\\sqrt{B^{2} + 4 l^{2}}}{2 \\sqrt{1 + \\frac{4 l^{2}}{B^{2}}}}\\end{matrix}\\right]}{^{0}R_{I}}{\\dot{^IP}}{-}{r}{\\dot{\\phi}}=0$"
      ],
      "text/plain": [
       "<IPython.core.display.Math object>"
      ]
     },
     "metadata": {},
     "output_type": "display_data"
    },
    {
     "name": "stdout",
     "output_type": "stream",
     "text": [
      "No-sliding condition:\n"
     ]
    },
    {
     "data": {
      "text/latex": [
       "$\\displaystyle {\\left[\\begin{matrix}- s\\beta_{FL} & c\\beta_{FL} & \\frac{B s\\beta_{FL}}{2}\\\\s\\beta_{FR} & - c\\beta_{FR} & \\frac{B s\\beta_{FR}}{2}\\\\0 & 1 & - \\frac{l \\sqrt{B^{2} + 4 l^{2}}}{B \\sqrt{1 + \\frac{4 l^{2}}{B^{2}}}}\\\\0 & 1 & - \\frac{l \\sqrt{B^{2} + 4 l^{2}}}{B \\sqrt{1 + \\frac{4 l^{2}}{B^{2}}}}\\end{matrix}\\right]}{^{0}R_{I}}{\\dot{^IP}}=0$"
      ],
      "text/plain": [
       "<IPython.core.display.Math object>"
      ]
     },
     "metadata": {},
     "output_type": "display_data"
    }
   ],
   "source": [
    "# rolling condition\n",
    "M_rolling_FL = get_mat_rolling(alpha_FL, beta_FL, L_FL)\n",
    "M_rolling_FR = get_mat_rolling(alpha_FR, beta_FR, L_FR)\n",
    "M_rolling_RL = get_mat_rolling(alpha_RL, beta_RL, L_RL)\n",
    "M_rolling_RR = get_mat_rolling(alpha_RR, beta_RR, L_RR)\n",
    "\n",
    "M_rolling = sp.Matrix([M_rolling_FL, M_rolling_FR,\n",
    "                       M_rolling_RL, M_rolling_RR])\n",
    "\n",
    "# so sliding condition\n",
    "M_no_sliding_FL = get_mat_no_sliding(alpha_FL, beta_FL, L_FL)\n",
    "M_no_sliding_FR = get_mat_no_sliding(alpha_FR, beta_FR, L_FR)\n",
    "M_no_sliding_RL = get_mat_no_sliding(alpha_RL, beta_RL, L_RL)\n",
    "M_no_sliding_RR = get_mat_no_sliding(alpha_RR, beta_RR, L_RR)\n",
    "\n",
    "M_no_sliding = sp.Matrix([M_no_sliding_FL, M_no_sliding_FR,\n",
    "                          M_no_sliding_RL, M_no_sliding_RR])\n",
    "\n",
    "print('Rolling condition:')\n",
    "left = [M_rolling,\n",
    "        R0I_sym,\n",
    "        P_sym,\n",
    "        get_sym('-'),\n",
    "        get_sym('r'),\n",
    "        get_sym('\\phi', dot=1)]\n",
    "eqnprint(left, alias, None , 0)\n",
    "\n",
    "print('No-sliding condition:')\n",
    "left = [M_no_sliding,\n",
    "        R0I_sym,\n",
    "        P_sym,\n",
    "        ]\n",
    "eqnprint(left, alias, None , 0)"
   ]
  },
  {
   "cell_type": "code",
   "execution_count": 8,
   "id": "a575ee73",
   "metadata": {},
   "outputs": [
    {
     "data": {
      "text/latex": [
       "$\\displaystyle {\\left[\\begin{matrix}1 & 0 & - \\frac{\\sqrt{B^{2} + 4 l^{2}}}{2 \\sqrt{1 + \\frac{4 l^{2}}{B^{2}}}}\\\\1 & 0 & \\frac{\\sqrt{B^{2} + 4 l^{2}}}{2 \\sqrt{1 + \\frac{4 l^{2}}{B^{2}}}}\\\\0 & 1 & - \\frac{l \\sqrt{B^{2} + 4 l^{2}}}{B \\sqrt{1 + \\frac{4 l^{2}}{B^{2}}}}\\end{matrix}\\right]}{^{0}R_{I}}{\\dot{^IP}}{-}{\\left[\\begin{matrix}r & 0\\\\0 & r\\\\0 & 0\\end{matrix}\\right]}{\\left[\\begin{matrix}\\dot{\\phi_{RL}}\\\\\\dot{\\phi_{RR}}\\end{matrix}\\right]}=0$"
      ],
      "text/plain": [
       "<IPython.core.display.Math object>"
      ]
     },
     "metadata": {},
     "output_type": "display_data"
    }
   ],
   "source": [
    "M_angle = sp.Matrix([M_rolling_RL, M_rolling_RR, M_no_sliding_RL])\n",
    "M_r = sp.eye(2)*r\n",
    "M_r = M_r.row_insert(len(M_r), sp.zeros(1, 2))\n",
    "M_phi = sp.Matrix([phi_RL, phi_RR])\n",
    "\n",
    "\n",
    "left = [M_angle,\n",
    "        R0I_sym,\n",
    "        P_sym,\n",
    "        get_sym('-'),\n",
    "        M_r,\n",
    "        M_phi]\n",
    "eqnprint(left, alias, None , 0)"
   ]
  },
  {
   "cell_type": "markdown",
   "id": "2109fc45",
   "metadata": {},
   "source": [
    "## Forward Kinematics"
   ]
  },
  {
   "cell_type": "code",
   "execution_count": 9,
   "id": "d83563c9",
   "metadata": {},
   "outputs": [
    {
     "data": {
      "text/latex": [
       "$\\displaystyle \\dot{^IP}={^{I}R_{0}}{\\left[\\begin{matrix}\\frac{r}{2} & \\frac{r}{2}\\\\- \\frac{l r}{B} & \\frac{l r}{B}\\\\- \\frac{r \\sqrt{1 + \\frac{4 l^{2}}{B^{2}}}}{\\sqrt{B^{2} + 4 l^{2}}} & \\frac{r \\sqrt{1 + \\frac{4 l^{2}}{B^{2}}}}{\\sqrt{B^{2} + 4 l^{2}}}\\end{matrix}\\right]}{\\left[\\begin{matrix}\\dot{\\phi_{RL}}\\\\\\dot{\\phi_{RR}}\\end{matrix}\\right]}$"
      ],
      "text/plain": [
       "<IPython.core.display.Math object>"
      ]
     },
     "metadata": {},
     "output_type": "display_data"
    },
    {
     "data": {
      "text/latex": [
       "$\\displaystyle \\dot{^IP}={^{I}R_{0}}{\\left[\\begin{matrix}\\frac{r \\left(\\dot{\\phi_{RL}} + \\dot{\\phi_{RR}}\\right)}{2}\\\\\\frac{l r \\left(- \\dot{\\phi_{RL}} + \\dot{\\phi_{RR}}\\right)}{B}\\\\\\frac{r \\sqrt{\\frac{B^{2} + 4 l^{2}}{B^{2}}} \\left(- \\dot{\\phi_{RL}} + \\dot{\\phi_{RR}}\\right)}{\\sqrt{B^{2} + 4 l^{2}}}\\end{matrix}\\right]}$"
      ],
      "text/plain": [
       "<IPython.core.display.Math object>"
      ]
     },
     "metadata": {},
     "output_type": "display_data"
    },
    {
     "data": {
      "text/latex": [
       "$\\displaystyle \\dot{^IP}={\\left[\\begin{matrix}\\frac{r \\left(B c\\theta \\left(\\dot{\\phi_{RL}} + \\dot{\\phi_{RR}}\\right) + 2 l s\\theta \\left(\\dot{\\phi_{RL}} - \\dot{\\phi_{RR}}\\right)\\right)}{2 B}\\\\\\frac{r \\left(B s\\theta \\left(\\dot{\\phi_{RL}} + \\dot{\\phi_{RR}}\\right) - 2 c\\theta l \\left(\\dot{\\phi_{RL}} - \\dot{\\phi_{RR}}\\right)\\right)}{2 B}\\\\\\frac{r \\sqrt{\\frac{B^{2} + 4 l^{2}}{B^{2}}} \\left(- \\dot{\\phi_{RL}} + \\dot{\\phi_{RR}}\\right)}{\\sqrt{B^{2} + 4 l^{2}}}\\end{matrix}\\right]}$"
      ],
      "text/plain": [
       "<IPython.core.display.Math object>"
      ]
     },
     "metadata": {},
     "output_type": "display_data"
    }
   ],
   "source": [
    "M_temp = M_angle.inv() * M_r\n",
    "eqnprint(P_sym, alias, [RI0_sym,\n",
    "                        M_temp,\n",
    "                        M_phi])\n",
    "\n",
    "M_temp = M_temp * M_phi\n",
    "eqnprint(P_sym, alias, [RI0_sym,\n",
    "                        M_temp])\n",
    "\n",
    "P_I_dot = RI0 * M_temp\n",
    "eqnprint(P_sym, alias, P_I_dot)"
   ]
  },
  {
   "cell_type": "markdown",
   "id": "defece33",
   "metadata": {},
   "source": [
    "## Inverse Kinematics"
   ]
  },
  {
   "cell_type": "code",
   "execution_count": 10,
   "id": "6803cb3c",
   "metadata": {},
   "outputs": [
    {
     "data": {
      "text/latex": [
       "$\\displaystyle {\\left[\\begin{matrix}r^{2} & 0\\\\0 & r^{2}\\end{matrix}\\right]}{\\left[\\begin{matrix}\\dot{\\phi_{RL}}\\\\\\dot{\\phi_{RR}}\\end{matrix}\\right]}={\\left[\\begin{matrix}r & 0 & - \\frac{r \\sqrt{B^{2} + 4 l^{2}}}{2 \\sqrt{1 + \\frac{4 l^{2}}{B^{2}}}}\\\\r & 0 & \\frac{r \\sqrt{B^{2} + 4 l^{2}}}{2 \\sqrt{1 + \\frac{4 l^{2}}{B^{2}}}}\\end{matrix}\\right]}{^{0}R_{I}}{\\dot{^IP}}$"
      ],
      "text/plain": [
       "<IPython.core.display.Math object>"
      ]
     },
     "metadata": {},
     "output_type": "display_data"
    },
    {
     "data": {
      "text/latex": [
       "$\\displaystyle \\left[\\begin{matrix}\\dot{\\phi_{RL}}\\\\\\dot{\\phi_{RR}}\\end{matrix}\\right]={\\left[\\begin{matrix}\\frac{1}{r} & 0 & - \\frac{\\sqrt{B^{2} + 4 l^{2}}}{2 r \\sqrt{1 + \\frac{4 l^{2}}{B^{2}}}}\\\\\\frac{1}{r} & 0 & \\frac{\\sqrt{B^{2} + 4 l^{2}}}{2 r \\sqrt{1 + \\frac{4 l^{2}}{B^{2}}}}\\end{matrix}\\right]}{^{0}R_{I}}{\\dot{^IP}}$"
      ],
      "text/plain": [
       "<IPython.core.display.Math object>"
      ]
     },
     "metadata": {},
     "output_type": "display_data"
    },
    {
     "data": {
      "text/latex": [
       "$\\displaystyle \\left[\\begin{matrix}\\dot{\\phi_{RL}}\\\\\\dot{\\phi_{RR}}\\end{matrix}\\right]={\\left[\\begin{matrix}\\frac{c\\theta}{r} & \\frac{s\\theta}{r} & - \\frac{\\sqrt{B^{2} + 4 l^{2}}}{2 r \\sqrt{1 + \\frac{4 l^{2}}{B^{2}}}}\\\\\\frac{c\\theta}{r} & \\frac{s\\theta}{r} & \\frac{\\sqrt{B^{2} + 4 l^{2}}}{2 r \\sqrt{1 + \\frac{4 l^{2}}{B^{2}}}}\\end{matrix}\\right]}{\\dot{^IP}}$"
      ],
      "text/plain": [
       "<IPython.core.display.Math object>"
      ]
     },
     "metadata": {},
     "output_type": "display_data"
    }
   ],
   "source": [
    "M_temp_left = M_r.T * M_r\n",
    "M_temp_right = M_r.T * M_angle\n",
    "\n",
    "left = [M_temp_left, M_phi]\n",
    "right = [M_temp_right, R0I_sym, P_sym]\n",
    "eqnprint(left, alias, right)\n",
    "\n",
    "M_temp = M_temp_left.inv() * M_temp_right\n",
    "right = [M_temp, R0I_sym, P_sym]\n",
    "eqnprint(M_phi, alias, right)\n",
    "\n",
    "M_inverse = M_temp * R0I\n",
    "right = [M_inverse, P_sym]\n",
    "eqnprint(M_phi, alias, right)"
   ]
  },
  {
   "cell_type": "markdown",
   "id": "ed264c8f",
   "metadata": {},
   "source": [
    "From above, by knowing $\\dot{^IP}$, we can know the values of $\\dot{\\phi_{RL}}$ and $\\dot{\\phi_{RR}}$.\n",
    "\n",
    "We can then use them to solve $R$, $\\beta_{FL}$, $\\beta_{FL}$, $\\dot{\\phi_{FL}}$ and $\\dot{\\phi_{FR}}$."
   ]
  },
  {
   "cell_type": "code",
   "execution_count": 11,
   "id": "ccdcbb4a",
   "metadata": {},
   "outputs": [
    {
     "data": {
      "text/latex": [
       "$\\displaystyle R=\\frac{B \\left(\\dot{\\phi_{RL}} + \\dot{\\phi_{RR}}\\right)}{2 \\left(\\dot{\\phi_{RL}} - \\dot{\\phi_{RR}}\\right)}$"
      ],
      "text/plain": [
       "<IPython.core.display.Math object>"
      ]
     },
     "metadata": {},
     "output_type": "display_data"
    },
    {
     "data": {
      "text/latex": [
       "$\\displaystyle \\beta_{FL}=- \\operatorname{atan}{\\left(\\frac{2 l}{B + 2 R} \\right)}$"
      ],
      "text/plain": [
       "<IPython.core.display.Math object>"
      ]
     },
     "metadata": {},
     "output_type": "display_data"
    },
    {
     "data": {
      "text/latex": [
       "$\\displaystyle \\beta_{FR}=\\operatorname{atan}{\\left(\\frac{2 l}{B - 2 R} \\right)}$"
      ],
      "text/plain": [
       "<IPython.core.display.Math object>"
      ]
     },
     "metadata": {},
     "output_type": "display_data"
    },
    {
     "data": {
      "text/latex": [
       "$\\displaystyle \\dot{\\phi_{FL}}=\\frac{\\dot{\\theta} \\sqrt{4 l^{2} + \\left(B + 2 R\\right)^{2}}}{2 r}$"
      ],
      "text/plain": [
       "<IPython.core.display.Math object>"
      ]
     },
     "metadata": {},
     "output_type": "display_data"
    },
    {
     "data": {
      "text/latex": [
       "$\\displaystyle \\dot{\\phi_{FR}}=\\frac{\\dot{\\theta} \\sqrt{4 l^{2} + \\left(B - 2 R\\right)^{2}}}{2 r}$"
      ],
      "text/plain": [
       "<IPython.core.display.Math object>"
      ]
     },
     "metadata": {},
     "output_type": "display_data"
    }
   ],
   "source": [
    "# Turning radius\n",
    "R_inv = B/2 * ((phi_RL + phi_RR) / (phi_RL - phi_RR))\n",
    "eqnprint(R, alias, R_inv)\n",
    "\n",
    "# front wheels beta\n",
    "beta_FL_inv = -sp.atan(l / (R + B/2))\n",
    "eqnprint(beta_FL, alias, beta_FL_inv)\n",
    "beta_FR_inv = -sp.atan(l / (R - B/2))\n",
    "eqnprint(beta_FR, alias, beta_FR_inv)\n",
    "\n",
    "# front wheels speed\n",
    "phi_FL_inv = theta_dot * sp.sqrt(l**2 + (R+B/2)**2) / r\n",
    "eqnprint(phi_FL, alias, phi_FL_inv)\n",
    "phi_FR_inv = theta_dot * sp.sqrt(l**2 + (R-B/2)**2) / r\n",
    "eqnprint(phi_FR, alias, phi_FR_inv)"
   ]
  },
  {
   "cell_type": "markdown",
   "id": "c504da56",
   "metadata": {},
   "source": [
    "# Validation\n",
    "\n",
    "Starting by forward kinematics, making some random values of $\\dot{\\phi_{RL}}$ and $\\dot{\\phi_{RR}}$."
   ]
  },
  {
   "cell_type": "code",
   "execution_count": 12,
   "id": "fffaa44a",
   "metadata": {},
   "outputs": [],
   "source": [
    "# Constants\n",
    "A_vel = 3.6  # car length\n",
    "B_vel = 2.6\n",
    "C_val = 1.5\n",
    "l_val = 2\n",
    "r_val = 0.6\n",
    "\n",
    "phi_RL_val = 0.01\n",
    "phi_RR_val = 0.02\n",
    "\n",
    "theta_val = np.pi/4"
   ]
  },
  {
   "cell_type": "code",
   "execution_count": 13,
   "id": "3dde6891",
   "metadata": {},
   "outputs": [],
   "source": [
    "values = {A: A_vel, B: B_vel, C: C_val, l: l_val, r: r_val,\n",
    "          phi_RL: phi_RL_val, phi_RR: phi_RR_val, theta: theta_val}"
   ]
  },
  {
   "cell_type": "code",
   "execution_count": 14,
   "id": "d5dff76a",
   "metadata": {},
   "outputs": [
    {
     "data": {
      "text/latex": [
       "$\\displaystyle \\dot{P_{I}}=\\left[\\begin{matrix}0.0031003912713564\\\\0.00962753079000145\\\\0.00230769230769231\\end{matrix}\\right]$"
      ],
      "text/plain": [
       "<IPython.core.display.Math object>"
      ]
     },
     "metadata": {},
     "output_type": "display_data"
    }
   ],
   "source": [
    "P_I_dot_vals = P_I_dot.subs(values)\n",
    "eqnprint(get_sym('P', 'I', '', 1), alias, P_I_dot_vals)"
   ]
  },
  {
   "cell_type": "code",
   "execution_count": 15,
   "id": "eb9c0fa9",
   "metadata": {},
   "outputs": [
    {
     "data": {
      "text/latex": [
       "$\\displaystyle \\dot{\\phi_{RL}}=0.01$"
      ],
      "text/plain": [
       "<IPython.core.display.Math object>"
      ]
     },
     "metadata": {},
     "output_type": "display_data"
    },
    {
     "data": {
      "text/latex": [
       "$\\displaystyle \\dot{\\phi_{RR}}=0.02$"
      ],
      "text/plain": [
       "<IPython.core.display.Math object>"
      ]
     },
     "metadata": {},
     "output_type": "display_data"
    }
   ],
   "source": [
    "rear_phi_values = M_inverse.multiply(P_I_dot_vals).subs(values)\n",
    "phi_RL_val = rear_phi_values[0]\n",
    "phi_RR_val = rear_phi_values[1]\n",
    "\n",
    "eqnprint(phi_RL, alias, phi_RL_val)\n",
    "eqnprint(phi_RR, alias, phi_RR_val)"
   ]
  },
  {
   "cell_type": "markdown",
   "id": "459f51d2",
   "metadata": {},
   "source": [
    "Same as the initial values"
   ]
  },
  {
   "cell_type": "code",
   "execution_count": null,
   "id": "0d556c1a",
   "metadata": {},
   "outputs": [],
   "source": []
  }
 ],
 "metadata": {
  "kernelspec": {
   "display_name": "Python 3 (ipykernel)",
   "language": "python",
   "name": "python3"
  },
  "language_info": {
   "codemirror_mode": {
    "name": "ipython",
    "version": 3
   },
   "file_extension": ".py",
   "mimetype": "text/x-python",
   "name": "python",
   "nbconvert_exporter": "python",
   "pygments_lexer": "ipython3",
   "version": "3.10.9"
  }
 },
 "nbformat": 4,
 "nbformat_minor": 5
}
