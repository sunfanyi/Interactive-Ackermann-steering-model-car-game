{
 "cells": [
  {
   "cell_type": "code",
   "execution_count": 1,
   "id": "e93eca1b",
   "metadata": {},
   "outputs": [],
   "source": [
    "import numpy as np\n",
    "import sympy as sp\n",
    "import matplotlib.pyplot as plt\n",
    "import latex2markdown\n",
    "\n",
    "from tools_cv import *\n",
    "from tools_kinematics import *"
   ]
  },
  {
   "cell_type": "code",
   "execution_count": 7,
   "id": "62d59b8e",
   "metadata": {},
   "outputs": [],
   "source": [
    "text = 'latex'\n",
    "# text = 'markdown'\n",
    "def write_text(symbol, alias=None, expression=None, ans=None):\n",
    "    if ans is None:\n",
    "        expr_latex = sp.latex(symbol.subs(alias)) + '=' + sp.latex(expression.subs(alias))\n",
    "    elif expression is None:\n",
    "        expr_latex = sp.latex(symbol.subs(alias)) + '=' + str(ans)\n",
    "    else:\n",
    "        expr_latex = sp.latex(symbol.subs(alias)) + '=' + sp.latex(expression.subs(alias)) + '=' + str(ans)\n",
    "    \n",
    "    expr = expr_latex.replace(r'\\\\', r'\\\\' + '\\n')\n",
    "    if text == 'markdown':\n",
    "        expr = '```math\\n' + expr_latex + '\\n```'\n",
    "    print(expr)\n",
    "    print()"
   ]
  },
  {
   "cell_type": "code",
   "execution_count": 23,
   "id": "55974460",
   "metadata": {},
   "outputs": [],
   "source": [
    "# Constants\n",
    "A = get_sym('A')  # car length\n",
    "B = get_sym('B')  # car width / track\n",
    "C = get_sym('C')  # car height\n",
    "l = get_sym('l')  # wheelbase\n",
    "r = get_sym('r')  # wheel radius\n",
    "\n",
    "R = get_sym('R')  # turning radius (Ackerman)\n",
    "\n",
    "beta_FL = get_sym(r'\\beta', 'FL')\n",
    "beta_FR = get_sym(r'\\beta', 'FR')\n",
    "\n",
    "phi_FL = get_sym(r'\\phi', 'FL', dot=1)\n",
    "phi_FR = get_sym(r'\\phi', 'FR', dot=1)\n",
    "phi_RL = get_sym(r'\\phi', 'RL', dot=1)\n",
    "phi_RR = get_sym(r'\\phi', 'RR', dot=1)\n",
    "\n",
    "theta = get_sym(r'\\theta')\n",
    "theta_dot = get_sym(r'\\theta', dot=1)\n",
    "\n",
    "alias = {}\n",
    "\n",
    "# display cos(theta) as c\\theta, sin(theta) as s\\theta\n",
    "alias.update({sp.sin(theta): sp.symbols(r\"s\\theta\"),\n",
    "              sp.cos(theta): sp.symbols(r\"c\\theta\"),\n",
    "              sp.sin(beta_FL): sp.symbols(r\"s\\beta_{FL}\"),\n",
    "              sp.cos(beta_FR): sp.symbols(r\"c\\beta_{FL}\"),\n",
    "              sp.sin(beta_FR): sp.symbols(r\"s\\beta_{FR}\"),\n",
    "              sp.cos(beta_FL): sp.symbols(r\"c\\beta_{FR}\")})\n",
    "\n",
    "L_FL = L_FR = B / 2\n",
    "L_RL = L_RR = sp.sqrt(B**2 / 4 + l**2)\n",
    "\n",
    "alpha_FL = sp.pi/2\n",
    "alpha_FR = -sp.pi/2\n",
    "alpha_RL = sp.pi/2 + sp.atan(2*l/B)\n",
    "alpha_RR = -sp.pi/2 - sp.atan(2*l/B)\n",
    "\n",
    "beta_RL = -sp.atan(2*l/B)\n",
    "beta_RR = sp.atan(2*l/B) + sp.pi"
   ]
  },
  {
   "cell_type": "code",
   "execution_count": 24,
   "id": "4c13d4dd",
   "metadata": {},
   "outputs": [
    {
     "name": "stdout",
     "output_type": "stream",
     "text": [
      "L_{FL}=\\frac{B}{2}\n",
      "\n",
      "L_{RL}=\\sqrt{\\frac{B^{2}}{4} + l^{2}}\n",
      "\n",
      "\\alpha_{FL}=\\frac{\\pi}{2}\n",
      "\n",
      "\\alpha_{FR}=- \\frac{\\pi}{2}\n",
      "\n",
      "\\alpha_{RL}=\\operatorname{atan}{\\left(\\frac{2 l}{B} \\right)} + \\frac{\\pi}{2}\n",
      "\n",
      "\\alpha_{RR}=- \\operatorname{atan}{\\left(\\frac{2 l}{B} \\right)} - \\frac{\\pi}{2}\n",
      "\n",
      "\\beta_{RL}=- \\operatorname{atan}{\\left(\\frac{2 l}{B} \\right)}\n",
      "\n",
      "\\beta_{RR}=\\operatorname{atan}{\\left(\\frac{2 l}{B} \\right)} + \\pi\n",
      "\n"
     ]
    }
   ],
   "source": [
    "write_text(get_sym('L', 'FL'), alias, L_FL)\n",
    "write_text(get_sym('L', 'RL'), alias, L_RL)\n",
    "write_text(get_sym(r'\\alpha', 'FL'), alias, alpha_FL)\n",
    "write_text(get_sym(r'\\alpha', 'FR'), alias, alpha_FR)\n",
    "write_text(get_sym(r'\\alpha', 'RL'), alias, alpha_RL)\n",
    "write_text(get_sym(r'\\alpha', 'RR'), alias, alpha_RR)\n",
    "write_text(get_sym(r'\\beta', 'RL'), alias, beta_RL)\n",
    "write_text(get_sym(r'\\beta', 'RR'), alias, beta_RR)"
   ]
  },
  {
   "cell_type": "code",
   "execution_count": 25,
   "id": "4b3b36f0",
   "metadata": {},
   "outputs": [
    {
     "data": {
      "text/latex": [
       "$\\displaystyle M_{rolling}=\\left[\\begin{matrix}c\\beta_{FR} & s\\beta_{FL} & - \\frac{B c\\beta_{FR}}{2}\\\\- c\\beta_{FL} & - s\\beta_{FR} & - \\frac{B c\\beta_{FL}}{2}\\\\1 & 0 & - \\frac{\\sqrt{B^{2} + 4 l^{2}}}{2 \\sqrt{1 + \\frac{4 l^{2}}{B^{2}}}}\\\\1 & 0 & \\frac{\\sqrt{B^{2} + 4 l^{2}}}{2 \\sqrt{1 + \\frac{4 l^{2}}{B^{2}}}}\\end{matrix}\\right]$"
      ],
      "text/plain": [
       "<IPython.core.display.Math object>"
      ]
     },
     "metadata": {},
     "output_type": "display_data"
    },
    {
     "name": "stdout",
     "output_type": "stream",
     "text": [
      "M_{rolling}=\\left[\\begin{matrix}c\\beta_{FR} & s\\beta_{FL} & - \\frac{B c\\beta_{FR}}{2}\\\\\n",
      "- c\\beta_{FL} & - s\\beta_{FR} & - \\frac{B c\\beta_{FL}}{2}\\\\\n",
      "1 & 0 & - \\frac{\\sqrt{B^{2} + 4 l^{2}}}{2 \\sqrt{1 + \\frac{4 l^{2}}{B^{2}}}}\\\\\n",
      "1 & 0 & \\frac{\\sqrt{B^{2} + 4 l^{2}}}{2 \\sqrt{1 + \\frac{4 l^{2}}{B^{2}}}}\\end{matrix}\\right]\n",
      "\n"
     ]
    },
    {
     "data": {
      "text/latex": [
       "$\\displaystyle M_{no-sliding}=\\left[\\begin{matrix}- s\\beta_{FL} & c\\beta_{FR} & \\frac{B s\\beta_{FL}}{2}\\\\s\\beta_{FR} & - c\\beta_{FL} & \\frac{B s\\beta_{FR}}{2}\\\\0 & 1 & - \\frac{l \\sqrt{B^{2} + 4 l^{2}}}{B \\sqrt{1 + \\frac{4 l^{2}}{B^{2}}}}\\\\0 & 1 & - \\frac{l \\sqrt{B^{2} + 4 l^{2}}}{B \\sqrt{1 + \\frac{4 l^{2}}{B^{2}}}}\\end{matrix}\\right]$"
      ],
      "text/plain": [
       "<IPython.core.display.Math object>"
      ]
     },
     "metadata": {},
     "output_type": "display_data"
    },
    {
     "name": "stdout",
     "output_type": "stream",
     "text": [
      "M_{no-sliding}=\\left[\\begin{matrix}- s\\beta_{FL} & c\\beta_{FR} & \\frac{B s\\beta_{FL}}{2}\\\\\n",
      "s\\beta_{FR} & - c\\beta_{FL} & \\frac{B s\\beta_{FR}}{2}\\\\\n",
      "0 & 1 & - \\frac{l \\sqrt{B^{2} + 4 l^{2}}}{B \\sqrt{1 + \\frac{4 l^{2}}{B^{2}}}}\\\\\n",
      "0 & 1 & - \\frac{l \\sqrt{B^{2} + 4 l^{2}}}{B \\sqrt{1 + \\frac{4 l^{2}}{B^{2}}}}\\end{matrix}\\right]\n",
      "\n"
     ]
    }
   ],
   "source": [
    "# rolling condition\n",
    "M_rolling_FL = get_mat_rolling(alpha_FL, beta_FL, L_FL)\n",
    "M_rolling_FR = get_mat_rolling(alpha_FR, beta_FR, L_FR)\n",
    "M_rolling_RL = get_mat_rolling(alpha_RL, beta_RL, L_RL)\n",
    "M_rolling_RR = get_mat_rolling(alpha_RR, beta_RR, L_RR)\n",
    "\n",
    "M_rolling = sp.Matrix([M_rolling_FL, M_rolling_FR,\n",
    "                       M_rolling_RL, M_rolling_RR])\n",
    "eqnprint(get_sym('M', 'rolling'), alias, M_rolling)\n",
    "write_text(get_sym('M', 'rolling'), alias, M_rolling)\n",
    "\n",
    "# so sliding condition\n",
    "M_no_sliding_FL = get_mat_no_sliding(alpha_FL, beta_FL, L_FL)\n",
    "M_no_sliding_FR = get_mat_no_sliding(alpha_FR, beta_FR, L_FR)\n",
    "M_no_sliding_RL = get_mat_no_sliding(alpha_RL, beta_RL, L_RL)\n",
    "M_no_sliding_RR = get_mat_no_sliding(alpha_RR, beta_RR, L_RR)\n",
    "\n",
    "M_no_sliding = sp.Matrix([M_no_sliding_FL, M_no_sliding_FR,\n",
    "                          M_no_sliding_RL, M_no_sliding_RR])\n",
    "eqnprint(get_sym('M', 'no-sliding'), alias, M_no_sliding)\n",
    "write_text(get_sym('M', 'no-sliding'), alias, M_no_sliding)"
   ]
  },
  {
   "cell_type": "code",
   "execution_count": 26,
   "id": "e5231820",
   "metadata": {},
   "outputs": [
    {
     "data": {
      "text/latex": [
       "$\\displaystyle M_{rollingFL}=\\left[\\begin{matrix}c\\beta_{FR} & s\\beta_{FL} & - \\frac{B c\\beta_{FR}}{2}\\end{matrix}\\right]$"
      ],
      "text/plain": [
       "<IPython.core.display.Math object>"
      ]
     },
     "metadata": {},
     "output_type": "display_data"
    },
    {
     "name": "stdout",
     "output_type": "stream",
     "text": [
      "M_{rollingFL}=\\left[\\begin{matrix}c\\beta_{FR} & s\\beta_{FL} & - \\frac{B c\\beta_{FR}}{2}\\end{matrix}\\right]\n",
      "\n"
     ]
    },
    {
     "data": {
      "text/latex": [
       "$\\displaystyle M_{rollingFR}=\\left[\\begin{matrix}- c\\beta_{FL} & - s\\beta_{FR} & - \\frac{B c\\beta_{FL}}{2}\\end{matrix}\\right]$"
      ],
      "text/plain": [
       "<IPython.core.display.Math object>"
      ]
     },
     "metadata": {},
     "output_type": "display_data"
    },
    {
     "name": "stdout",
     "output_type": "stream",
     "text": [
      "M_{rollingFR}=\\left[\\begin{matrix}- c\\beta_{FL} & - s\\beta_{FR} & - \\frac{B c\\beta_{FL}}{2}\\end{matrix}\\right]\n",
      "\n"
     ]
    },
    {
     "data": {
      "text/latex": [
       "$\\displaystyle M_{rollingRL}=\\left[\\begin{matrix}1 & 0 & - \\frac{\\sqrt{B^{2} + 4 l^{2}}}{2 \\sqrt{1 + \\frac{4 l^{2}}{B^{2}}}}\\end{matrix}\\right]$"
      ],
      "text/plain": [
       "<IPython.core.display.Math object>"
      ]
     },
     "metadata": {},
     "output_type": "display_data"
    },
    {
     "name": "stdout",
     "output_type": "stream",
     "text": [
      "M_{rollingRL}=\\left[\\begin{matrix}1 & 0 & - \\frac{\\sqrt{B^{2} + 4 l^{2}}}{2 \\sqrt{1 + \\frac{4 l^{2}}{B^{2}}}}\\end{matrix}\\right]\n",
      "\n"
     ]
    },
    {
     "data": {
      "text/latex": [
       "$\\displaystyle M_{rollingRR}=\\left[\\begin{matrix}1 & 0 & \\frac{\\sqrt{B^{2} + 4 l^{2}}}{2 \\sqrt{1 + \\frac{4 l^{2}}{B^{2}}}}\\end{matrix}\\right]$"
      ],
      "text/plain": [
       "<IPython.core.display.Math object>"
      ]
     },
     "metadata": {},
     "output_type": "display_data"
    },
    {
     "name": "stdout",
     "output_type": "stream",
     "text": [
      "M_{rollingRR}=\\left[\\begin{matrix}1 & 0 & \\frac{\\sqrt{B^{2} + 4 l^{2}}}{2 \\sqrt{1 + \\frac{4 l^{2}}{B^{2}}}}\\end{matrix}\\right]\n",
      "\n"
     ]
    },
    {
     "data": {
      "text/latex": [
       "$\\displaystyle M_{no_slidingFL}=\\left[\\begin{matrix}- s\\beta_{FL} & c\\beta_{FR} & \\frac{B s\\beta_{FL}}{2}\\end{matrix}\\right]$"
      ],
      "text/plain": [
       "<IPython.core.display.Math object>"
      ]
     },
     "metadata": {},
     "output_type": "display_data"
    },
    {
     "name": "stdout",
     "output_type": "stream",
     "text": [
      "M_{no_slidingFL}=\\left[\\begin{matrix}- s\\beta_{FL} & c\\beta_{FR} & \\frac{B s\\beta_{FL}}{2}\\end{matrix}\\right]\n",
      "\n"
     ]
    },
    {
     "data": {
      "text/latex": [
       "$\\displaystyle M_{no_slidingFR}=\\left[\\begin{matrix}s\\beta_{FR} & - c\\beta_{FL} & \\frac{B s\\beta_{FR}}{2}\\end{matrix}\\right]$"
      ],
      "text/plain": [
       "<IPython.core.display.Math object>"
      ]
     },
     "metadata": {},
     "output_type": "display_data"
    },
    {
     "name": "stdout",
     "output_type": "stream",
     "text": [
      "M_{no_slidingFR}=\\left[\\begin{matrix}s\\beta_{FR} & - c\\beta_{FL} & \\frac{B s\\beta_{FR}}{2}\\end{matrix}\\right]\n",
      "\n"
     ]
    },
    {
     "data": {
      "text/latex": [
       "$\\displaystyle M_{no_slidingRL}=\\left[\\begin{matrix}0 & 1 & - \\frac{l \\sqrt{B^{2} + 4 l^{2}}}{B \\sqrt{1 + \\frac{4 l^{2}}{B^{2}}}}\\end{matrix}\\right]$"
      ],
      "text/plain": [
       "<IPython.core.display.Math object>"
      ]
     },
     "metadata": {},
     "output_type": "display_data"
    },
    {
     "name": "stdout",
     "output_type": "stream",
     "text": [
      "M_{no_slidingRL}=\\left[\\begin{matrix}0 & 1 & - \\frac{l \\sqrt{B^{2} + 4 l^{2}}}{B \\sqrt{1 + \\frac{4 l^{2}}{B^{2}}}}\\end{matrix}\\right]\n",
      "\n"
     ]
    },
    {
     "data": {
      "text/latex": [
       "$\\displaystyle M_{no_slidingRR}=\\left[\\begin{matrix}0 & 1 & - \\frac{l \\sqrt{B^{2} + 4 l^{2}}}{B \\sqrt{1 + \\frac{4 l^{2}}{B^{2}}}}\\end{matrix}\\right]$"
      ],
      "text/plain": [
       "<IPython.core.display.Math object>"
      ]
     },
     "metadata": {},
     "output_type": "display_data"
    },
    {
     "name": "stdout",
     "output_type": "stream",
     "text": [
      "M_{no_slidingRR}=\\left[\\begin{matrix}0 & 1 & - \\frac{l \\sqrt{B^{2} + 4 l^{2}}}{B \\sqrt{1 + \\frac{4 l^{2}}{B^{2}}}}\\end{matrix}\\right]\n",
      "\n"
     ]
    }
   ],
   "source": [
    "eqnprint(get_sym('M', 'rollingFL'), alias, M_rolling_FL)\n",
    "write_text(get_sym('M', 'rollingFL'), alias, M_rolling_FL)\n",
    "\n",
    "eqnprint(get_sym('M', 'rollingFR'), alias, M_rolling_FR)\n",
    "write_text(get_sym('M', 'rollingFR'), alias, M_rolling_FR)\n",
    "\n",
    "eqnprint(get_sym('M', 'rollingRL'), alias, M_rolling_RL)\n",
    "write_text(get_sym('M', 'rollingRL'), alias, M_rolling_RL)\n",
    "\n",
    "eqnprint(get_sym('M', 'rollingRR'), alias, M_rolling_RR)\n",
    "write_text(get_sym('M', 'rollingRR'), alias, M_rolling_RR)\n",
    "\n",
    "\n",
    "eqnprint(get_sym('M', 'no_slidingFL'), alias, M_no_sliding_FL)\n",
    "write_text(get_sym('M', 'no_slidingFL'), alias, M_no_sliding_FL)\n",
    "\n",
    "eqnprint(get_sym('M', 'no_slidingFR'), alias, M_no_sliding_FR)\n",
    "write_text(get_sym('M', 'no_slidingFR'), alias, M_no_sliding_FR)\n",
    "\n",
    "eqnprint(get_sym('M', 'no_slidingRL'), alias, M_no_sliding_RL)\n",
    "write_text(get_sym('M', 'no_slidingRL'), alias, M_no_sliding_RL)\n",
    "\n",
    "eqnprint(get_sym('M', 'no_slidingRR'), alias, M_no_sliding_RR)\n",
    "write_text(get_sym('M', 'no_slidingRR'), alias, M_no_sliding_RR)"
   ]
  },
  {
   "cell_type": "code",
   "execution_count": 28,
   "id": "34048602",
   "metadata": {},
   "outputs": [
    {
     "data": {
      "text/latex": [
       "$\\displaystyle M_{angle}=\\left[\\begin{matrix}1 & 0 & - \\frac{\\sqrt{B^{2} + 4 l^{2}}}{2 \\sqrt{1 + \\frac{4 l^{2}}{B^{2}}}}\\\\1 & 0 & \\frac{\\sqrt{B^{2} + 4 l^{2}}}{2 \\sqrt{1 + \\frac{4 l^{2}}{B^{2}}}}\\\\0 & 1 & - \\frac{l \\sqrt{B^{2} + 4 l^{2}}}{B \\sqrt{1 + \\frac{4 l^{2}}{B^{2}}}}\\end{matrix}\\right]$"
      ],
      "text/plain": [
       "<IPython.core.display.Math object>"
      ]
     },
     "metadata": {},
     "output_type": "display_data"
    },
    {
     "name": "stdout",
     "output_type": "stream",
     "text": [
      "M_{angle}=\\left[\\begin{matrix}1 & 0 & - \\frac{\\sqrt{B^{2} + 4 l^{2}}}{2 \\sqrt{1 + \\frac{4 l^{2}}{B^{2}}}}\\\\\n",
      "1 & 0 & \\frac{\\sqrt{B^{2} + 4 l^{2}}}{2 \\sqrt{1 + \\frac{4 l^{2}}{B^{2}}}}\\\\\n",
      "0 & 1 & - \\frac{l \\sqrt{B^{2} + 4 l^{2}}}{B \\sqrt{1 + \\frac{4 l^{2}}{B^{2}}}}\\end{matrix}\\right]\n",
      "\n"
     ]
    },
    {
     "data": {
      "text/latex": [
       "$\\displaystyle M_{r}=\\left[\\begin{matrix}r & 0\\\\0 & r\\\\0 & 0\\end{matrix}\\right]$"
      ],
      "text/plain": [
       "<IPython.core.display.Math object>"
      ]
     },
     "metadata": {},
     "output_type": "display_data"
    },
    {
     "name": "stdout",
     "output_type": "stream",
     "text": [
      "M_{r}=\\left[\\begin{matrix}r & 0\\\\\n",
      "0 & r\\\\\n",
      "0 & 0\\end{matrix}\\right]\n",
      "\n",
      "M_{r}=\\left[\\begin{matrix}\\dot{\\phi_{FL}}\\\\\n",
      "\\dot{\\phi_{FR}}\\\\\n",
      "\\dot{\\phi_{RL}}\\\\\n",
      "\\dot{\\phi_{RR}}\\end{matrix}\\right]\n",
      "\n"
     ]
    }
   ],
   "source": [
    "M_angle = sp.Matrix([M_rolling_RL, M_rolling_RR, M_no_sliding_RL])\n",
    "eqnprint(get_sym('M', 'angle'), alias, M_angle)\n",
    "write_text(get_sym('M', 'angle'), alias, M_angle)\n",
    "\n",
    "M_r = sp.eye(2)*r\n",
    "M_r = M_r.row_insert(len(M_r), sp.zeros(1, 2))\n",
    "eqnprint(get_sym('M', 'r'), alias, M_r)\n",
    "write_text(get_sym('M', 'r'), alias, M_r)\n",
    "\n",
    "M_phi = sp.Matrix([phi_FL, phi_FR, phi_RL, phi_RR])\n",
    "write_text(get_sym('a', 'a'), alias, M_phi)"
   ]
  },
  {
   "cell_type": "code",
   "execution_count": 31,
   "id": "835d63ac",
   "metadata": {},
   "outputs": [
    {
     "data": {
      "text/latex": [
       "$\\displaystyle ^{0}R_{I}=\\left[\\begin{matrix}c\\theta & s\\theta & 0\\\\- s\\theta & c\\theta & 0\\\\0 & 0 & 1\\end{matrix}\\right]$"
      ],
      "text/plain": [
       "<IPython.core.display.Math object>"
      ]
     },
     "metadata": {},
     "output_type": "display_data"
    },
    {
     "name": "stdout",
     "output_type": "stream",
     "text": [
      "^{0}R_{I}=\\left[\\begin{matrix}c\\theta & s\\theta & 0\\\\\n",
      "- s\\theta & c\\theta & 0\\\\\n",
      "0 & 0 & 1\\end{matrix}\\right]\n",
      "\n"
     ]
    }
   ],
   "source": [
    "RI0 = rotation(theta, 'z')\n",
    "R0I = RI0.T\n",
    "eqnprint(get_sym('R', 'I', '0'), alias, R0I)\n",
    "write_text(get_sym('R', 'I', '0'), alias, R0I)"
   ]
  },
  {
   "cell_type": "code",
   "execution_count": 32,
   "id": "25ac66ee",
   "metadata": {},
   "outputs": [
    {
     "data": {
      "text/latex": [
       "$\\displaystyle \\left[\\begin{matrix}\\frac{r}{2} & \\frac{r}{2}\\\\- \\frac{l r}{B} & \\frac{l r}{B}\\\\- \\frac{r \\sqrt{1 + \\frac{4 l^{2}}{B^{2}}}}{\\sqrt{B^{2} + 4 l^{2}}} & \\frac{r \\sqrt{1 + \\frac{4 l^{2}}{B^{2}}}}{\\sqrt{B^{2} + 4 l^{2}}}\\end{matrix}\\right]$"
      ],
      "text/plain": [
       "Matrix([\n",
       "[                                         r/2,                                         r/2],\n",
       "[                                      -l*r/B,                                       l*r/B],\n",
       "[-r*sqrt(1 + 4*l**2/B**2)/sqrt(B**2 + 4*l**2), r*sqrt(1 + 4*l**2/B**2)/sqrt(B**2 + 4*l**2)]])"
      ]
     },
     "metadata": {},
     "output_type": "display_data"
    },
    {
     "name": "stdout",
     "output_type": "stream",
     "text": [
      "a_{a}=\\left[\\begin{matrix}\\frac{r}{2} & \\frac{r}{2}\\\\\n",
      "- \\frac{l r}{B} & \\frac{l r}{B}\\\\\n",
      "- \\frac{r \\sqrt{1 + \\frac{4 l^{2}}{B^{2}}}}{\\sqrt{B^{2} + 4 l^{2}}} & \\frac{r \\sqrt{1 + \\frac{4 l^{2}}{B^{2}}}}{\\sqrt{B^{2} + 4 l^{2}}}\\end{matrix}\\right]\n",
      "\n"
     ]
    },
    {
     "data": {
      "text/latex": [
       "$\\displaystyle \\left[\\begin{matrix}\\frac{r \\left(\\dot{\\phi_{RL}} + \\dot{\\phi_{RR}}\\right)}{2}\\\\\\frac{l r \\left(- \\dot{\\phi_{RL}} + \\dot{\\phi_{RR}}\\right)}{B}\\\\\\frac{r \\sqrt{\\frac{B^{2} + 4 l^{2}}{B^{2}}} \\left(- \\dot{\\phi_{RL}} + \\dot{\\phi_{RR}}\\right)}{\\sqrt{B^{2} + 4 l^{2}}}\\end{matrix}\\right]$"
      ],
      "text/plain": [
       "Matrix([\n",
       "[                                              r*(\\dot{\\phi_{RL}} + \\dot{\\phi_{RR}})/2],\n",
       "[                                           l*r*(-\\dot{\\phi_{RL}} + \\dot{\\phi_{RR}})/B],\n",
       "[r*sqrt((B**2 + 4*l**2)/B**2)*(-\\dot{\\phi_{RL}} + \\dot{\\phi_{RR}})/sqrt(B**2 + 4*l**2)]])"
      ]
     },
     "metadata": {},
     "output_type": "display_data"
    },
    {
     "name": "stdout",
     "output_type": "stream",
     "text": [
      "a_{a}=\\left[\\begin{matrix}\\frac{\\dot{\\phi_{RL}} r}{2} + \\frac{\\dot{\\phi_{RR}} r}{2}\\\\\n",
      "- \\frac{\\dot{\\phi_{RL}} l r}{B} + \\frac{\\dot{\\phi_{RR}} l r}{B}\\\\\n",
      "- \\frac{\\dot{\\phi_{RL}} r \\sqrt{1 + \\frac{4 l^{2}}{B^{2}}}}{\\sqrt{B^{2} + 4 l^{2}}} + \\frac{\\dot{\\phi_{RR}} r \\sqrt{1 + \\frac{4 l^{2}}{B^{2}}}}{\\sqrt{B^{2} + 4 l^{2}}}\\end{matrix}\\right]\n",
      "\n"
     ]
    },
    {
     "data": {
      "text/latex": [
       "$\\displaystyle \\dot{P_{I}}=\\left[\\begin{matrix}\\frac{r \\left(B c\\theta \\left(\\dot{\\phi_{RL}} + \\dot{\\phi_{RR}}\\right) + 2 l s\\theta \\left(\\dot{\\phi_{RL}} - \\dot{\\phi_{RR}}\\right)\\right)}{2 B}\\\\\\frac{r \\left(B s\\theta \\left(\\dot{\\phi_{RL}} + \\dot{\\phi_{RR}}\\right) - 2 c\\theta l \\left(\\dot{\\phi_{RL}} - \\dot{\\phi_{RR}}\\right)\\right)}{2 B}\\\\\\frac{r \\sqrt{\\frac{B^{2} + 4 l^{2}}{B^{2}}} \\left(- \\dot{\\phi_{RL}} + \\dot{\\phi_{RR}}\\right)}{\\sqrt{B^{2} + 4 l^{2}}}\\end{matrix}\\right]$"
      ],
      "text/plain": [
       "<IPython.core.display.Math object>"
      ]
     },
     "metadata": {},
     "output_type": "display_data"
    },
    {
     "name": "stdout",
     "output_type": "stream",
     "text": [
      "\\dot{P_{I}}=\\left[\\begin{matrix}\\frac{r \\left(B c\\theta \\left(\\dot{\\phi_{RL}} + \\dot{\\phi_{RR}}\\right) + 2 l s\\theta \\left(\\dot{\\phi_{RL}} - \\dot{\\phi_{RR}}\\right)\\right)}{2 B}\\\\\n",
      "\\frac{r \\left(B s\\theta \\left(\\dot{\\phi_{RL}} + \\dot{\\phi_{RR}}\\right) - 2 c\\theta l \\left(\\dot{\\phi_{RL}} - \\dot{\\phi_{RR}}\\right)\\right)}{2 B}\\\\\n",
      "\\frac{r \\sqrt{\\frac{B^{2} + 4 l^{2}}{B^{2}}} \\left(- \\dot{\\phi_{RL}} + \\dot{\\phi_{RR}}\\right)}{\\sqrt{B^{2} + 4 l^{2}}}\\end{matrix}\\right]\n",
      "\n"
     ]
    }
   ],
   "source": [
    "M_temp = M_angle.inv().multiply(M_r)\n",
    "matprint(sp.simplify(M_temp))\n",
    "write_text(get_sym('a', 'a'), alias, M_temp)\n",
    "\n",
    "M_temp = M_temp.multiply(sp.Matrix([phi_RL, phi_RR]))\n",
    "matprint(sp.simplify(M_temp))\n",
    "write_text(get_sym('a', 'a'), alias, M_temp)\n",
    "\n",
    "P_I_dot = RI0.multiply(M_temp)\n",
    "P_I_dot = sp.simplify(P_I_dot)\n",
    "eqnprint(get_sym('P', 'I', '', 1), alias, P_I_dot)\n",
    "write_text(get_sym('P', 'I', '', 1), alias, P_I_dot)"
   ]
  },
  {
   "cell_type": "markdown",
   "id": "a94012c9",
   "metadata": {},
   "source": [
    "## Inverse"
   ]
  },
  {
   "cell_type": "code",
   "execution_count": 34,
   "id": "f614bf67",
   "metadata": {},
   "outputs": [
    {
     "data": {
      "text/latex": [
       "$\\displaystyle \\left[\\begin{matrix}r & 0 & - \\frac{r \\sqrt{B^{2} + 4 l^{2}}}{2 \\sqrt{1 + \\frac{4 l^{2}}{B^{2}}}}\\\\r & 0 & \\frac{r \\sqrt{B^{2} + 4 l^{2}}}{2 \\sqrt{1 + \\frac{4 l^{2}}{B^{2}}}}\\end{matrix}\\right]$"
      ],
      "text/plain": [
       "Matrix([\n",
       "[r, 0, -r*sqrt(B**2 + 4*l**2)/(2*sqrt(1 + 4*l**2/B**2))],\n",
       "[r, 0,  r*sqrt(B**2 + 4*l**2)/(2*sqrt(1 + 4*l**2/B**2))]])"
      ]
     },
     "metadata": {},
     "output_type": "display_data"
    },
    {
     "name": "stdout",
     "output_type": "stream",
     "text": [
      "a_{a}=\\left[\\begin{matrix}r & 0 & - \\frac{r \\sqrt{B^{2} + 4 l^{2}}}{2 \\sqrt{1 + \\frac{4 l^{2}}{B^{2}}}}\\\\\n",
      "r & 0 & \\frac{r \\sqrt{B^{2} + 4 l^{2}}}{2 \\sqrt{1 + \\frac{4 l^{2}}{B^{2}}}}\\end{matrix}\\right]\n",
      "\n"
     ]
    },
    {
     "data": {
      "text/latex": [
       "$\\displaystyle \\left[\\begin{matrix}\\frac{1}{r} & 0 & - \\frac{\\sqrt{B^{2} + 4 l^{2}}}{2 r \\sqrt{1 + \\frac{4 l^{2}}{B^{2}}}}\\\\\\frac{1}{r} & 0 & \\frac{\\sqrt{B^{2} + 4 l^{2}}}{2 r \\sqrt{1 + \\frac{4 l^{2}}{B^{2}}}}\\end{matrix}\\right]$"
      ],
      "text/plain": [
       "Matrix([\n",
       "[1/r, 0, -sqrt(B**2 + 4*l**2)/(2*r*sqrt(1 + 4*l**2/B**2))],\n",
       "[1/r, 0,  sqrt(B**2 + 4*l**2)/(2*r*sqrt(1 + 4*l**2/B**2))]])"
      ]
     },
     "metadata": {},
     "output_type": "display_data"
    },
    {
     "name": "stdout",
     "output_type": "stream",
     "text": [
      "a_{a}=\\left[\\begin{matrix}r & 0 & - \\frac{r \\sqrt{B^{2} + 4 l^{2}}}{2 \\sqrt{1 + \\frac{4 l^{2}}{B^{2}}}}\\\\\n",
      "r & 0 & \\frac{r \\sqrt{B^{2} + 4 l^{2}}}{2 \\sqrt{1 + \\frac{4 l^{2}}{B^{2}}}}\\end{matrix}\\right]\n",
      "\n"
     ]
    },
    {
     "data": {
      "text/latex": [
       "$\\displaystyle M_{inverse}=\\left[\\begin{matrix}\\frac{c\\theta}{r} & \\frac{s\\theta}{r} & - \\frac{\\sqrt{B^{2} + 4 l^{2}}}{2 r \\sqrt{1 + \\frac{4 l^{2}}{B^{2}}}}\\\\\\frac{c\\theta}{r} & \\frac{s\\theta}{r} & \\frac{\\sqrt{B^{2} + 4 l^{2}}}{2 r \\sqrt{1 + \\frac{4 l^{2}}{B^{2}}}}\\end{matrix}\\right]$"
      ],
      "text/plain": [
       "<IPython.core.display.Math object>"
      ]
     },
     "metadata": {},
     "output_type": "display_data"
    },
    {
     "name": "stdout",
     "output_type": "stream",
     "text": [
      "M_{inverse}=\\left[\\begin{matrix}\\frac{c\\theta}{r} & \\frac{s\\theta}{r} & - \\frac{\\sqrt{B^{2} + 4 l^{2}}}{2 r \\sqrt{1 + \\frac{4 l^{2}}{B^{2}}}}\\\\\n",
      "\\frac{c\\theta}{r} & \\frac{s\\theta}{r} & \\frac{\\sqrt{B^{2} + 4 l^{2}}}{2 r \\sqrt{1 + \\frac{4 l^{2}}{B^{2}}}}\\end{matrix}\\right]\n",
      "\n"
     ]
    }
   ],
   "source": [
    "M_temp_left = M_r.T.multiply(M_r)\n",
    "\n",
    "M_temp_right = M_r.T.multiply(M_angle)\n",
    "matprint(sp.simplify(M_temp_right))\n",
    "write_text(get_sym('a', 'a'), alias, M_temp_right)\n",
    "\n",
    "M_temp = M_temp_left.inv().multiply(M_temp_right)\n",
    "matprint(sp.simplify(M_temp))\n",
    "write_text(get_sym('a', 'a'), alias, M_temp_right)\n",
    "\n",
    "M_inverse = M_temp.multiply(R0I)\n",
    "M_inverse = sp.simplify(M_inverse)\n",
    "eqnprint(get_sym('M', 'inverse'), alias, M_inverse)\n",
    "write_text(get_sym('M', 'inverse'), alias, M_inverse)"
   ]
  },
  {
   "cell_type": "code",
   "execution_count": null,
   "id": "776f1055",
   "metadata": {},
   "outputs": [],
   "source": []
  }
 ],
 "metadata": {
  "kernelspec": {
   "display_name": "Python 3 (ipykernel)",
   "language": "python",
   "name": "python3"
  },
  "language_info": {
   "codemirror_mode": {
    "name": "ipython",
    "version": 3
   },
   "file_extension": ".py",
   "mimetype": "text/x-python",
   "name": "python",
   "nbconvert_exporter": "python",
   "pygments_lexer": "ipython3",
   "version": "3.10.9"
  }
 },
 "nbformat": 4,
 "nbformat_minor": 5
}
