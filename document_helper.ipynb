{
 "cells": [
  {
   "cell_type": "code",
   "execution_count": 2,
   "id": "e93eca1b",
   "metadata": {},
   "outputs": [],
   "source": [
    "import numpy as np\n",
    "import sympy as sp\n",
    "import matplotlib.pyplot as plt\n",
    "import latex2markdown\n",
    "\n",
    "from tools_cv import *\n",
    "from tools_kinematics import *"
   ]
  },
  {
   "cell_type": "code",
   "execution_count": 10,
   "id": "62d59b8e",
   "metadata": {},
   "outputs": [],
   "source": [
    "text = 'latex'\n",
    "# text = 'markdown'\n",
    "def write_text(left, alias=None, right=None, ans=None, simplify=True):\n",
    "    def _concat_expression(expression):\n",
    "        if type(expression) is list:\n",
    "            exp = ''\n",
    "            for each in expression:\n",
    "                if simplify:\n",
    "                    each = sp.simplify(each)\n",
    "                exp = exp + '{' + sp.latex(each.subs(alias)) + '}'\n",
    "        else:\n",
    "            if simplify:\n",
    "                expression = sp.simplify(expression)\n",
    "            exp = sp.latex(expression.subs(alias))\n",
    "        return exp\n",
    "\n",
    "    if left is not None:\n",
    "        left = _concat_expression(left)\n",
    "    if right is not None:\n",
    "        right = _concat_expression(right)\n",
    "\n",
    "    if right is None:\n",
    "        expr_latex = left + '=' + str(ans)\n",
    "    elif ans is None:\n",
    "        expr_latex = left + '=' + right\n",
    "    else:\n",
    "        expr_latex = left + '=' + right + '=' + str(ans)\n",
    "        \n",
    "    expr = expr_latex.replace(r'\\\\', r'\\\\' + '\\n')\n",
    "    if text == 'markdown':\n",
    "        expr = '```math\\n' + expr_latex + '\\n```'\n",
    "    print(expr)\n",
    "    print()\n",
    "    "
   ]
  },
  {
   "cell_type": "code",
   "execution_count": 18,
   "id": "55974460",
   "metadata": {},
   "outputs": [],
   "source": [
    "# Constants\n",
    "A = get_sym('A')  # car length\n",
    "B = get_sym('B')  # car width / track\n",
    "C = get_sym('C')  # car height\n",
    "l = get_sym('l')  # wheelbase\n",
    "r = get_sym('r')  # wheel radius\n",
    "R = get_sym('R')  # turning radius (Ackerman)\n",
    "\n",
    "X = get_sym(r'X')\n",
    "X_dot = get_sym(r'X', dot=1)\n",
    "\n",
    "Y = get_sym(r'Y')\n",
    "Y_dot = get_sym(r'Y', dot=1)\n",
    "\n",
    "Z = get_sym(r'Z')\n",
    "Z_dot = get_sym(r'Z', dot=1)\n",
    "\n",
    "theta = get_sym(r'\\theta')\n",
    "theta_dot = get_sym(r'\\theta', dot=1)\n",
    "\n",
    "alias = {}\n",
    "\n",
    "# display cos(theta) as c\\theta, sin(theta) as s\\theta\n",
    "alias.update({\n",
    "    sp.sin(theta): sp.symbols(r\"s\\theta\"),\n",
    "    sp.cos(theta): sp.symbols(r\"c\\theta\"),\n",
    "})"
   ]
  },
  {
   "cell_type": "code",
   "execution_count": 19,
   "id": "a55cc567",
   "metadata": {},
   "outputs": [],
   "source": [
    "wheels = ['FL', 'FR', 'RL', 'RR']\n",
    "L_FL = L_FR = B / 2\n",
    "L_RL = L_RR = sp.sqrt(B**2 / 4 + l**2)\n",
    "all_L = [L_FL, L_FR, L_RL, L_RR]\n",
    "\n",
    "for wheel in wheels:\n",
    "    alpha = get_sym(r'\\alpha', wheel)\n",
    "    exec(f\"alpha_{wheel} = alpha\")\n",
    "    \n",
    "    beta = get_sym(r'\\beta', wheel)\n",
    "    exec(f\"beta_{wheel} = beta\")\n",
    "    \n",
    "    phi = get_sym(r'\\phi', wheel, dot=1)\n",
    "    exec(f\"phi_{wheel} = phi\")\n",
    "    \n",
    "    # display cos(beta) as c\\theta, sin(beta) as s\\theta\n",
    "    alias.update({\n",
    "        sp.sin(beta): sp.symbols(r\"s\\beta_{%s}\" % wheel),\n",
    "        sp.cos(beta): sp.symbols(r\"c\\beta_{%s}\" % wheel),\n",
    "    })"
   ]
  },
  {
   "cell_type": "code",
   "execution_count": 20,
   "id": "85fb528d",
   "metadata": {},
   "outputs": [],
   "source": [
    "# Overwrite constants\n",
    "alpha_FL = sp.pi/2\n",
    "alpha_FR = -sp.pi/2\n",
    "alpha_RL = sp.pi/2 + sp.atan(2*l/B)\n",
    "alpha_RR = -sp.pi/2 - sp.atan(2*l/B)\n",
    "\n",
    "beta_RL = -sp.atan(2*l/B)\n",
    "beta_RR = sp.atan(2*l/B) + sp.pi"
   ]
  },
  {
   "cell_type": "code",
   "execution_count": 21,
   "id": "4c13d4dd",
   "metadata": {},
   "outputs": [
    {
     "name": "stdout",
     "output_type": "stream",
     "text": [
      "L_{FL}=\\frac{B}{2}\n",
      "\n",
      "L_{RL}=\\frac{\\sqrt{B^{2} + 4 l^{2}}}{2}\n",
      "\n",
      "\\alpha_{FL}=\\frac{\\pi}{2}\n",
      "\n",
      "\\alpha_{FR}=- \\frac{\\pi}{2}\n",
      "\n",
      "\\alpha_{RL}=\\operatorname{atan}{\\left(\\frac{2 l}{B} \\right)} + \\frac{\\pi}{2}\n",
      "\n",
      "\\alpha_{RR}=- \\operatorname{atan}{\\left(\\frac{2 l}{B} \\right)} - \\frac{\\pi}{2}\n",
      "\n",
      "\\beta_{RL}=- \\operatorname{atan}{\\left(\\frac{2 l}{B} \\right)}\n",
      "\n",
      "\\beta_{RR}=\\operatorname{atan}{\\left(\\frac{2 l}{B} \\right)} + \\pi\n",
      "\n"
     ]
    }
   ],
   "source": [
    "write_text(get_sym('L', 'FL'), alias, L_FL)\n",
    "write_text(get_sym('L', 'RL'), alias, L_RL)\n",
    "write_text(get_sym(r'\\alpha', 'FL'), alias, alpha_FL)\n",
    "write_text(get_sym(r'\\alpha', 'FR'), alias, alpha_FR)\n",
    "write_text(get_sym(r'\\alpha', 'RL'), alias, alpha_RL)\n",
    "write_text(get_sym(r'\\alpha', 'RR'), alias, alpha_RR)\n",
    "write_text(get_sym(r'\\beta', 'RL'), alias, beta_RL)\n",
    "write_text(get_sym(r'\\beta', 'RR'), alias, beta_RR)"
   ]
  },
  {
   "cell_type": "code",
   "execution_count": 22,
   "id": "1bf941df",
   "metadata": {},
   "outputs": [
    {
     "data": {
      "text/latex": [
       "$\\displaystyle ^{0}R_{I}=\\left[\\begin{matrix}c\\theta & s\\theta & 0\\\\- s\\theta & c\\theta & 0\\\\0 & 0 & 1\\end{matrix}\\right]$"
      ],
      "text/plain": [
       "<IPython.core.display.Math object>"
      ]
     },
     "metadata": {},
     "output_type": "display_data"
    },
    {
     "data": {
      "text/latex": [
       "$\\displaystyle \\dot{^IP}=\\left[\\begin{matrix}\\dot{X}\\\\\\dot{Y}\\\\\\dot{\\theta}\\end{matrix}\\right]$"
      ],
      "text/plain": [
       "<IPython.core.display.Math object>"
      ]
     },
     "metadata": {},
     "output_type": "display_data"
    }
   ],
   "source": [
    "RI0 = rotation(theta, 'z')\n",
    "R0I = RI0.T\n",
    "R0I_sym = get_sym('R', 'I', '0')\n",
    "RI0_sym = get_sym('R', '0', 'I')\n",
    "eqnprint(R0I_sym, alias, R0I)\n",
    "\n",
    "P_dot = sp.Matrix([X_dot, Y_dot, theta_dot])\n",
    "P_sym = get_sym('P', '', 'I', dot=1)\n",
    "eqnprint(P_sym, alias, P_dot)"
   ]
  },
  {
   "cell_type": "code",
   "execution_count": 30,
   "id": "4b3b36f0",
   "metadata": {
    "scrolled": false
   },
   "outputs": [
    {
     "name": "stdout",
     "output_type": "stream",
     "text": [
      "Rolling condition:\n"
     ]
    },
    {
     "data": {
      "text/latex": [
       "$\\displaystyle {\\left[\\begin{matrix}c\\beta_{FL} & s\\beta_{FL} & - \\frac{B c\\beta_{FL}}{2}\\\\- c\\beta_{FR} & - s\\beta_{FR} & - \\frac{B c\\beta_{FR}}{2}\\\\1 & 0 & - \\frac{\\sqrt{B^{2} + 4 l^{2}}}{2 \\sqrt{1 + \\frac{4 l^{2}}{B^{2}}}}\\\\1 & 0 & \\frac{\\sqrt{B^{2} + 4 l^{2}}}{2 \\sqrt{1 + \\frac{4 l^{2}}{B^{2}}}}\\end{matrix}\\right]}{^{0}R_{I}}{\\dot{^IP}}{-}{r}{\\left[\\begin{matrix}\\dot{\\phi_{FL}}\\\\\\dot{\\phi_{FR}}\\\\\\dot{\\phi_{RL}}\\\\\\dot{\\phi_{RR}}\\end{matrix}\\right]}=0$"
      ],
      "text/plain": [
       "<IPython.core.display.Math object>"
      ]
     },
     "metadata": {},
     "output_type": "display_data"
    },
    {
     "name": "stdout",
     "output_type": "stream",
     "text": [
      "{\\left[\\begin{matrix}c\\beta_{FL} & s\\beta_{FL} & - \\frac{B c\\beta_{FL}}{2}\\\\\n",
      "- c\\beta_{FR} & - s\\beta_{FR} & - \\frac{B c\\beta_{FR}}{2}\\\\\n",
      "1 & 0 & - \\frac{\\sqrt{B^{2} + 4 l^{2}}}{2 \\sqrt{1 + \\frac{4 l^{2}}{B^{2}}}}\\\\\n",
      "1 & 0 & \\frac{\\sqrt{B^{2} + 4 l^{2}}}{2 \\sqrt{1 + \\frac{4 l^{2}}{B^{2}}}}\\end{matrix}\\right]}{^{0}R_{I}}{\\dot{^IP}}{-}{r}{\\left[\\begin{matrix}\\dot{\\phi_{FL}}\\\\\n",
      "\\dot{\\phi_{FR}}\\\\\n",
      "\\dot{\\phi_{RL}}\\\\\n",
      "\\dot{\\phi_{RR}}\\end{matrix}\\right]}=0\n",
      "\n",
      "No-sliding condition:\n"
     ]
    },
    {
     "data": {
      "text/latex": [
       "$\\displaystyle {\\left[\\begin{matrix}- s\\beta_{FL} & c\\beta_{FL} & \\frac{B s\\beta_{FL}}{2}\\\\s\\beta_{FR} & - c\\beta_{FR} & \\frac{B s\\beta_{FR}}{2}\\\\0 & 1 & - \\frac{l \\sqrt{B^{2} + 4 l^{2}}}{B \\sqrt{1 + \\frac{4 l^{2}}{B^{2}}}}\\\\0 & 1 & - \\frac{l \\sqrt{B^{2} + 4 l^{2}}}{B \\sqrt{1 + \\frac{4 l^{2}}{B^{2}}}}\\end{matrix}\\right]}{^{0}R_{I}}{\\dot{^IP}}=0$"
      ],
      "text/plain": [
       "<IPython.core.display.Math object>"
      ]
     },
     "metadata": {},
     "output_type": "display_data"
    },
    {
     "name": "stdout",
     "output_type": "stream",
     "text": [
      "{\\left[\\begin{matrix}- s\\beta_{FL} & c\\beta_{FL} & \\frac{B s\\beta_{FL}}{2}\\\\\n",
      "s\\beta_{FR} & - c\\beta_{FR} & \\frac{B s\\beta_{FR}}{2}\\\\\n",
      "0 & 1 & - \\frac{l \\sqrt{B^{2} + 4 l^{2}}}{B \\sqrt{1 + \\frac{4 l^{2}}{B^{2}}}}\\\\\n",
      "0 & 1 & - \\frac{l \\sqrt{B^{2} + 4 l^{2}}}{B \\sqrt{1 + \\frac{4 l^{2}}{B^{2}}}}\\end{matrix}\\right]}{^{0}R_{I}}{\\dot{^IP}}=0\n",
      "\n"
     ]
    }
   ],
   "source": [
    "# rolling condition\n",
    "M_rolling_FL = get_mat_rolling(alpha_FL, beta_FL, L_FL)\n",
    "M_rolling_FR = get_mat_rolling(alpha_FR, beta_FR, L_FR)\n",
    "M_rolling_RL = get_mat_rolling(alpha_RL, beta_RL, L_RL)\n",
    "M_rolling_RR = get_mat_rolling(alpha_RR, beta_RR, L_RR)\n",
    "\n",
    "M_rolling = sp.Matrix([M_rolling_FL, M_rolling_FR,\n",
    "                       M_rolling_RL, M_rolling_RR])\n",
    "\n",
    "# so sliding condition\n",
    "M_no_sliding_FL = get_mat_no_sliding(alpha_FL, beta_FL, L_FL)\n",
    "M_no_sliding_FR = get_mat_no_sliding(alpha_FR, beta_FR, L_FR)\n",
    "M_no_sliding_RL = get_mat_no_sliding(alpha_RL, beta_RL, L_RL)\n",
    "M_no_sliding_RR = get_mat_no_sliding(alpha_RR, beta_RR, L_RR)\n",
    "\n",
    "M_no_sliding = sp.Matrix([M_no_sliding_FL, M_no_sliding_FR,\n",
    "                          M_no_sliding_RL, M_no_sliding_RR])\n",
    "\n",
    "print('Rolling condition:')\n",
    "left = [M_rolling,\n",
    "        R0I_sym,\n",
    "        P_sym,\n",
    "        get_sym('-'),\n",
    "        get_sym('r'),\n",
    "        sp.Matrix([phi_FL, phi_FR, phi_RL, phi_RR])]\n",
    "eqnprint(left, alias, None , 0)\n",
    "write_text(left, alias, None , 0)\n",
    "\n",
    "print('No-sliding condition:')\n",
    "left = [M_no_sliding,\n",
    "        R0I_sym,\n",
    "        P_sym,\n",
    "        ]\n",
    "eqnprint(left, alias, None , 0)\n",
    "write_text(left, alias, None , 0)\n"
   ]
  },
  {
   "cell_type": "code",
   "execution_count": 24,
   "id": "e5231820",
   "metadata": {
    "scrolled": false
   },
   "outputs": [
    {
     "data": {
      "text/latex": [
       "$\\displaystyle M_{rollingFL}=\\left[\\begin{matrix}c\\beta_{FL} & s\\beta_{FL} & - \\frac{B c\\beta_{FL}}{2}\\end{matrix}\\right]$"
      ],
      "text/plain": [
       "<IPython.core.display.Math object>"
      ]
     },
     "metadata": {},
     "output_type": "display_data"
    },
    {
     "name": "stdout",
     "output_type": "stream",
     "text": [
      "M_{rollingFL}=\\left[\\begin{matrix}c\\beta_{FL} & s\\beta_{FL} & - \\frac{B c\\beta_{FL}}{2}\\end{matrix}\\right]\n",
      "\n"
     ]
    },
    {
     "data": {
      "text/latex": [
       "$\\displaystyle M_{rollingFR}=\\left[\\begin{matrix}- c\\beta_{FR} & - s\\beta_{FR} & - \\frac{B c\\beta_{FR}}{2}\\end{matrix}\\right]$"
      ],
      "text/plain": [
       "<IPython.core.display.Math object>"
      ]
     },
     "metadata": {},
     "output_type": "display_data"
    },
    {
     "name": "stdout",
     "output_type": "stream",
     "text": [
      "M_{rollingFR}=\\left[\\begin{matrix}- c\\beta_{FR} & - s\\beta_{FR} & - \\frac{B c\\beta_{FR}}{2}\\end{matrix}\\right]\n",
      "\n"
     ]
    },
    {
     "data": {
      "text/latex": [
       "$\\displaystyle M_{rollingRL}=\\left[\\begin{matrix}1 & 0 & - \\frac{\\sqrt{B^{2} + 4 l^{2}}}{2 \\sqrt{1 + \\frac{4 l^{2}}{B^{2}}}}\\end{matrix}\\right]$"
      ],
      "text/plain": [
       "<IPython.core.display.Math object>"
      ]
     },
     "metadata": {},
     "output_type": "display_data"
    },
    {
     "name": "stdout",
     "output_type": "stream",
     "text": [
      "M_{rollingRL}=\\left[\\begin{matrix}1 & 0 & - \\frac{\\sqrt{B^{2} + 4 l^{2}}}{2 \\sqrt{1 + \\frac{4 l^{2}}{B^{2}}}}\\end{matrix}\\right]\n",
      "\n"
     ]
    },
    {
     "data": {
      "text/latex": [
       "$\\displaystyle M_{rollingRR}=\\left[\\begin{matrix}1 & 0 & \\frac{\\sqrt{B^{2} + 4 l^{2}}}{2 \\sqrt{1 + \\frac{4 l^{2}}{B^{2}}}}\\end{matrix}\\right]$"
      ],
      "text/plain": [
       "<IPython.core.display.Math object>"
      ]
     },
     "metadata": {},
     "output_type": "display_data"
    },
    {
     "name": "stdout",
     "output_type": "stream",
     "text": [
      "M_{rollingRR}=\\left[\\begin{matrix}1 & 0 & \\frac{\\sqrt{B^{2} + 4 l^{2}}}{2 \\sqrt{1 + \\frac{4 l^{2}}{B^{2}}}}\\end{matrix}\\right]\n",
      "\n"
     ]
    },
    {
     "data": {
      "text/latex": [
       "$\\displaystyle M_{no_slidingFL}=\\left[\\begin{matrix}- s\\beta_{FL} & c\\beta_{FL} & \\frac{B s\\beta_{FL}}{2}\\end{matrix}\\right]$"
      ],
      "text/plain": [
       "<IPython.core.display.Math object>"
      ]
     },
     "metadata": {},
     "output_type": "display_data"
    },
    {
     "name": "stdout",
     "output_type": "stream",
     "text": [
      "M_{no_slidingFL}=\\left[\\begin{matrix}- s\\beta_{FL} & c\\beta_{FL} & \\frac{B s\\beta_{FL}}{2}\\end{matrix}\\right]\n",
      "\n"
     ]
    },
    {
     "data": {
      "text/latex": [
       "$\\displaystyle M_{no_slidingFR}=\\left[\\begin{matrix}s\\beta_{FR} & - c\\beta_{FR} & \\frac{B s\\beta_{FR}}{2}\\end{matrix}\\right]$"
      ],
      "text/plain": [
       "<IPython.core.display.Math object>"
      ]
     },
     "metadata": {},
     "output_type": "display_data"
    },
    {
     "name": "stdout",
     "output_type": "stream",
     "text": [
      "M_{no_slidingFR}=\\left[\\begin{matrix}s\\beta_{FR} & - c\\beta_{FR} & \\frac{B s\\beta_{FR}}{2}\\end{matrix}\\right]\n",
      "\n"
     ]
    },
    {
     "data": {
      "text/latex": [
       "$\\displaystyle M_{no_slidingRL}=\\left[\\begin{matrix}0 & 1 & - \\frac{l \\sqrt{B^{2} + 4 l^{2}}}{B \\sqrt{1 + \\frac{4 l^{2}}{B^{2}}}}\\end{matrix}\\right]$"
      ],
      "text/plain": [
       "<IPython.core.display.Math object>"
      ]
     },
     "metadata": {},
     "output_type": "display_data"
    },
    {
     "name": "stdout",
     "output_type": "stream",
     "text": [
      "M_{no_slidingRL}=\\left[\\begin{matrix}0 & 1 & - \\frac{l \\sqrt{B^{2} + 4 l^{2}}}{B \\sqrt{1 + \\frac{4 l^{2}}{B^{2}}}}\\end{matrix}\\right]\n",
      "\n"
     ]
    },
    {
     "data": {
      "text/latex": [
       "$\\displaystyle M_{no_slidingRR}=\\left[\\begin{matrix}0 & 1 & - \\frac{l \\sqrt{B^{2} + 4 l^{2}}}{B \\sqrt{1 + \\frac{4 l^{2}}{B^{2}}}}\\end{matrix}\\right]$"
      ],
      "text/plain": [
       "<IPython.core.display.Math object>"
      ]
     },
     "metadata": {},
     "output_type": "display_data"
    },
    {
     "name": "stdout",
     "output_type": "stream",
     "text": [
      "M_{no_slidingRR}=\\left[\\begin{matrix}0 & 1 & - \\frac{l \\sqrt{B^{2} + 4 l^{2}}}{B \\sqrt{1 + \\frac{4 l^{2}}{B^{2}}}}\\end{matrix}\\right]\n",
      "\n"
     ]
    }
   ],
   "source": [
    "eqnprint(get_sym('M', 'rollingFL'), alias, M_rolling_FL)\n",
    "write_text(get_sym('M', 'rollingFL'), alias, M_rolling_FL)\n",
    "\n",
    "eqnprint(get_sym('M', 'rollingFR'), alias, M_rolling_FR)\n",
    "write_text(get_sym('M', 'rollingFR'), alias, M_rolling_FR)\n",
    "\n",
    "eqnprint(get_sym('M', 'rollingRL'), alias, M_rolling_RL)\n",
    "write_text(get_sym('M', 'rollingRL'), alias, M_rolling_RL)\n",
    "\n",
    "eqnprint(get_sym('M', 'rollingRR'), alias, M_rolling_RR)\n",
    "write_text(get_sym('M', 'rollingRR'), alias, M_rolling_RR)\n",
    "\n",
    "\n",
    "eqnprint(get_sym('M', 'no_slidingFL'), alias, M_no_sliding_FL)\n",
    "write_text(get_sym('M', 'no_slidingFL'), alias, M_no_sliding_FL)\n",
    "\n",
    "eqnprint(get_sym('M', 'no_slidingFR'), alias, M_no_sliding_FR)\n",
    "write_text(get_sym('M', 'no_slidingFR'), alias, M_no_sliding_FR)\n",
    "\n",
    "eqnprint(get_sym('M', 'no_slidingRL'), alias, M_no_sliding_RL)\n",
    "write_text(get_sym('M', 'no_slidingRL'), alias, M_no_sliding_RL)\n",
    "\n",
    "eqnprint(get_sym('M', 'no_slidingRR'), alias, M_no_sliding_RR)\n",
    "write_text(get_sym('M', 'no_slidingRR'), alias, M_no_sliding_RR)"
   ]
  },
  {
   "cell_type": "code",
   "execution_count": 25,
   "id": "bd726cf2",
   "metadata": {},
   "outputs": [
    {
     "data": {
      "text/latex": [
       "$\\displaystyle {\\left[\\begin{matrix}1 & 0 & - \\frac{\\sqrt{B^{2} + 4 l^{2}}}{2 \\sqrt{1 + \\frac{4 l^{2}}{B^{2}}}}\\\\1 & 0 & \\frac{\\sqrt{B^{2} + 4 l^{2}}}{2 \\sqrt{1 + \\frac{4 l^{2}}{B^{2}}}}\\\\0 & 1 & - \\frac{l \\sqrt{B^{2} + 4 l^{2}}}{B \\sqrt{1 + \\frac{4 l^{2}}{B^{2}}}}\\end{matrix}\\right]}{^{0}R_{I}}{\\dot{^IP}}{-}{\\left[\\begin{matrix}r & 0\\\\0 & r\\\\0 & 0\\end{matrix}\\right]}{\\left[\\begin{matrix}\\dot{\\phi_{RL}}\\\\\\dot{\\phi_{RR}}\\end{matrix}\\right]}=0$"
      ],
      "text/plain": [
       "<IPython.core.display.Math object>"
      ]
     },
     "metadata": {},
     "output_type": "display_data"
    },
    {
     "name": "stdout",
     "output_type": "stream",
     "text": [
      "{\\left[\\begin{matrix}1 & 0 & - \\frac{\\sqrt{B^{2} + 4 l^{2}}}{2 \\sqrt{1 + \\frac{4 l^{2}}{B^{2}}}}\\\\\n",
      "1 & 0 & \\frac{\\sqrt{B^{2} + 4 l^{2}}}{2 \\sqrt{1 + \\frac{4 l^{2}}{B^{2}}}}\\\\\n",
      "0 & 1 & - \\frac{l \\sqrt{B^{2} + 4 l^{2}}}{B \\sqrt{1 + \\frac{4 l^{2}}{B^{2}}}}\\end{matrix}\\right]}{^{0}R_{I}}{\\dot{^IP}}{-}{\\left[\\begin{matrix}r & 0\\\\\n",
      "0 & r\\\\\n",
      "0 & 0\\end{matrix}\\right]}{\\left[\\begin{matrix}\\dot{\\phi_{RL}}\\\\\n",
      "\\dot{\\phi_{RR}}\\end{matrix}\\right]}=0\n",
      "\n"
     ]
    }
   ],
   "source": [
    "M_angle = sp.Matrix([M_rolling_RL, M_rolling_RR, M_no_sliding_RL])\n",
    "M_r = sp.eye(2)*r\n",
    "M_r = M_r.row_insert(len(M_r), sp.zeros(1, 2))\n",
    "M_phi = sp.Matrix([phi_RL, phi_RR])\n",
    "\n",
    "\n",
    "left = [M_angle,\n",
    "        R0I_sym,\n",
    "        P_sym,\n",
    "        get_sym('-'),\n",
    "        M_r,\n",
    "        M_phi]\n",
    "eqnprint(left, alias, None , 0)\n",
    "write_text(left, alias, None , 0)"
   ]
  },
  {
   "cell_type": "code",
   "execution_count": 26,
   "id": "25ac66ee",
   "metadata": {},
   "outputs": [
    {
     "data": {
      "text/latex": [
       "$\\displaystyle \\dot{^IP}={^{I}R_{0}}{\\left[\\begin{matrix}\\frac{r}{2} & \\frac{r}{2}\\\\- \\frac{l r}{B} & \\frac{l r}{B}\\\\- \\frac{r \\sqrt{1 + \\frac{4 l^{2}}{B^{2}}}}{\\sqrt{B^{2} + 4 l^{2}}} & \\frac{r \\sqrt{1 + \\frac{4 l^{2}}{B^{2}}}}{\\sqrt{B^{2} + 4 l^{2}}}\\end{matrix}\\right]}{\\left[\\begin{matrix}\\dot{\\phi_{RL}}\\\\\\dot{\\phi_{RR}}\\end{matrix}\\right]}$"
      ],
      "text/plain": [
       "<IPython.core.display.Math object>"
      ]
     },
     "metadata": {},
     "output_type": "display_data"
    },
    {
     "name": "stdout",
     "output_type": "stream",
     "text": [
      "\\dot{^IP}={^{I}R_{0}}{\\left[\\begin{matrix}\\frac{r}{2} & \\frac{r}{2}\\\\\n",
      "- \\frac{l r}{B} & \\frac{l r}{B}\\\\\n",
      "- \\frac{r \\sqrt{1 + \\frac{4 l^{2}}{B^{2}}}}{\\sqrt{B^{2} + 4 l^{2}}} & \\frac{r \\sqrt{1 + \\frac{4 l^{2}}{B^{2}}}}{\\sqrt{B^{2} + 4 l^{2}}}\\end{matrix}\\right]}{\\left[\\begin{matrix}\\dot{\\phi_{RL}}\\\\\n",
      "\\dot{\\phi_{RR}}\\end{matrix}\\right]}\n",
      "\n"
     ]
    },
    {
     "data": {
      "text/latex": [
       "$\\displaystyle \\dot{^IP}={^{I}R_{0}}{\\left[\\begin{matrix}\\frac{r \\left(\\dot{\\phi_{RL}} + \\dot{\\phi_{RR}}\\right)}{2}\\\\\\frac{l r \\left(- \\dot{\\phi_{RL}} + \\dot{\\phi_{RR}}\\right)}{B}\\\\\\frac{r \\sqrt{\\frac{B^{2} + 4 l^{2}}{B^{2}}} \\left(- \\dot{\\phi_{RL}} + \\dot{\\phi_{RR}}\\right)}{\\sqrt{B^{2} + 4 l^{2}}}\\end{matrix}\\right]}$"
      ],
      "text/plain": [
       "<IPython.core.display.Math object>"
      ]
     },
     "metadata": {},
     "output_type": "display_data"
    },
    {
     "name": "stdout",
     "output_type": "stream",
     "text": [
      "\\dot{^IP}={^{I}R_{0}}{\\left[\\begin{matrix}\\frac{r \\left(\\dot{\\phi_{RL}} + \\dot{\\phi_{RR}}\\right)}{2}\\\\\n",
      "\\frac{l r \\left(- \\dot{\\phi_{RL}} + \\dot{\\phi_{RR}}\\right)}{B}\\\\\n",
      "\\frac{r \\sqrt{\\frac{B^{2} + 4 l^{2}}{B^{2}}} \\left(- \\dot{\\phi_{RL}} + \\dot{\\phi_{RR}}\\right)}{\\sqrt{B^{2} + 4 l^{2}}}\\end{matrix}\\right]}\n",
      "\n"
     ]
    },
    {
     "data": {
      "text/latex": [
       "$\\displaystyle \\dot{^IP}=\\left[\\begin{matrix}\\frac{r \\left(B c\\theta \\left(\\dot{\\phi_{RL}} + \\dot{\\phi_{RR}}\\right) + 2 l s\\theta \\left(\\dot{\\phi_{RL}} - \\dot{\\phi_{RR}}\\right)\\right)}{2 B}\\\\\\frac{r \\left(B s\\theta \\left(\\dot{\\phi_{RL}} + \\dot{\\phi_{RR}}\\right) - 2 c\\theta l \\left(\\dot{\\phi_{RL}} - \\dot{\\phi_{RR}}\\right)\\right)}{2 B}\\\\\\frac{r \\sqrt{\\frac{B^{2} + 4 l^{2}}{B^{2}}} \\left(- \\dot{\\phi_{RL}} + \\dot{\\phi_{RR}}\\right)}{\\sqrt{B^{2} + 4 l^{2}}}\\end{matrix}\\right]$"
      ],
      "text/plain": [
       "<IPython.core.display.Math object>"
      ]
     },
     "metadata": {},
     "output_type": "display_data"
    },
    {
     "name": "stdout",
     "output_type": "stream",
     "text": [
      "\\dot{^IP}=\\left[\\begin{matrix}\\frac{r \\left(B c\\theta \\left(\\dot{\\phi_{RL}} + \\dot{\\phi_{RR}}\\right) + 2 l s\\theta \\left(\\dot{\\phi_{RL}} - \\dot{\\phi_{RR}}\\right)\\right)}{2 B}\\\\\n",
      "\\frac{r \\left(B s\\theta \\left(\\dot{\\phi_{RL}} + \\dot{\\phi_{RR}}\\right) - 2 c\\theta l \\left(\\dot{\\phi_{RL}} - \\dot{\\phi_{RR}}\\right)\\right)}{2 B}\\\\\n",
      "\\frac{r \\sqrt{\\frac{B^{2} + 4 l^{2}}{B^{2}}} \\left(- \\dot{\\phi_{RL}} + \\dot{\\phi_{RR}}\\right)}{\\sqrt{B^{2} + 4 l^{2}}}\\end{matrix}\\right]\n",
      "\n"
     ]
    }
   ],
   "source": [
    "M_temp = M_angle.inv() * M_r\n",
    "eqnprint(P_sym, alias, [RI0_sym,\n",
    "                        M_temp,\n",
    "                        M_phi])\n",
    "write_text(P_sym, alias, [RI0_sym,\n",
    "                        M_temp,\n",
    "                        M_phi])\n",
    "\n",
    "M_temp = M_temp * M_phi\n",
    "eqnprint(P_sym, alias, [RI0_sym,\n",
    "                        M_temp])\n",
    "write_text(P_sym, alias, [RI0_sym,\n",
    "                        M_temp])\n",
    "\n",
    "P_I_dot = RI0 * M_temp\n",
    "eqnprint(P_sym, alias, P_I_dot)\n",
    "write_text(P_sym, alias, P_I_dot)"
   ]
  },
  {
   "cell_type": "markdown",
   "id": "a94012c9",
   "metadata": {},
   "source": [
    "## Inverse"
   ]
  },
  {
   "cell_type": "code",
   "execution_count": 34,
   "id": "f614bf67",
   "metadata": {},
   "outputs": [
    {
     "data": {
      "text/latex": [
       "$\\displaystyle \\left[\\begin{matrix}r & 0 & - \\frac{r \\sqrt{B^{2} + 4 l^{2}}}{2 \\sqrt{1 + \\frac{4 l^{2}}{B^{2}}}}\\\\r & 0 & \\frac{r \\sqrt{B^{2} + 4 l^{2}}}{2 \\sqrt{1 + \\frac{4 l^{2}}{B^{2}}}}\\end{matrix}\\right]$"
      ],
      "text/plain": [
       "Matrix([\n",
       "[r, 0, -r*sqrt(B**2 + 4*l**2)/(2*sqrt(1 + 4*l**2/B**2))],\n",
       "[r, 0,  r*sqrt(B**2 + 4*l**2)/(2*sqrt(1 + 4*l**2/B**2))]])"
      ]
     },
     "metadata": {},
     "output_type": "display_data"
    },
    {
     "name": "stdout",
     "output_type": "stream",
     "text": [
      "a_{a}=\\left[\\begin{matrix}r & 0 & - \\frac{r \\sqrt{B^{2} + 4 l^{2}}}{2 \\sqrt{1 + \\frac{4 l^{2}}{B^{2}}}}\\\\\n",
      "r & 0 & \\frac{r \\sqrt{B^{2} + 4 l^{2}}}{2 \\sqrt{1 + \\frac{4 l^{2}}{B^{2}}}}\\end{matrix}\\right]\n",
      "\n"
     ]
    },
    {
     "data": {
      "text/latex": [
       "$\\displaystyle \\left[\\begin{matrix}\\frac{1}{r} & 0 & - \\frac{\\sqrt{B^{2} + 4 l^{2}}}{2 r \\sqrt{1 + \\frac{4 l^{2}}{B^{2}}}}\\\\\\frac{1}{r} & 0 & \\frac{\\sqrt{B^{2} + 4 l^{2}}}{2 r \\sqrt{1 + \\frac{4 l^{2}}{B^{2}}}}\\end{matrix}\\right]$"
      ],
      "text/plain": [
       "Matrix([\n",
       "[1/r, 0, -sqrt(B**2 + 4*l**2)/(2*r*sqrt(1 + 4*l**2/B**2))],\n",
       "[1/r, 0,  sqrt(B**2 + 4*l**2)/(2*r*sqrt(1 + 4*l**2/B**2))]])"
      ]
     },
     "metadata": {},
     "output_type": "display_data"
    },
    {
     "name": "stdout",
     "output_type": "stream",
     "text": [
      "a_{a}=\\left[\\begin{matrix}r & 0 & - \\frac{r \\sqrt{B^{2} + 4 l^{2}}}{2 \\sqrt{1 + \\frac{4 l^{2}}{B^{2}}}}\\\\\n",
      "r & 0 & \\frac{r \\sqrt{B^{2} + 4 l^{2}}}{2 \\sqrt{1 + \\frac{4 l^{2}}{B^{2}}}}\\end{matrix}\\right]\n",
      "\n"
     ]
    },
    {
     "data": {
      "text/latex": [
       "$\\displaystyle M_{inverse}=\\left[\\begin{matrix}\\frac{c\\theta}{r} & \\frac{s\\theta}{r} & - \\frac{\\sqrt{B^{2} + 4 l^{2}}}{2 r \\sqrt{1 + \\frac{4 l^{2}}{B^{2}}}}\\\\\\frac{c\\theta}{r} & \\frac{s\\theta}{r} & \\frac{\\sqrt{B^{2} + 4 l^{2}}}{2 r \\sqrt{1 + \\frac{4 l^{2}}{B^{2}}}}\\end{matrix}\\right]$"
      ],
      "text/plain": [
       "<IPython.core.display.Math object>"
      ]
     },
     "metadata": {},
     "output_type": "display_data"
    },
    {
     "name": "stdout",
     "output_type": "stream",
     "text": [
      "M_{inverse}=\\left[\\begin{matrix}\\frac{c\\theta}{r} & \\frac{s\\theta}{r} & - \\frac{\\sqrt{B^{2} + 4 l^{2}}}{2 r \\sqrt{1 + \\frac{4 l^{2}}{B^{2}}}}\\\\\n",
      "\\frac{c\\theta}{r} & \\frac{s\\theta}{r} & \\frac{\\sqrt{B^{2} + 4 l^{2}}}{2 r \\sqrt{1 + \\frac{4 l^{2}}{B^{2}}}}\\end{matrix}\\right]\n",
      "\n"
     ]
    }
   ],
   "source": [
    "M_temp_left = M_r.T.multiply(M_r)\n",
    "\n",
    "M_temp_right = M_r.T.multiply(M_angle)\n",
    "matprint(sp.simplify(M_temp_right))\n",
    "write_text(get_sym('a', 'a'), alias, M_temp_right)\n",
    "\n",
    "M_temp = M_temp_left.inv().multiply(M_temp_right)\n",
    "matprint(sp.simplify(M_temp))\n",
    "write_text(get_sym('a', 'a'), alias, M_temp_right)\n",
    "\n",
    "M_inverse = M_temp.multiply(R0I)\n",
    "M_inverse = sp.simplify(M_inverse)\n",
    "eqnprint(get_sym('M', 'inverse'), alias, M_inverse)\n",
    "write_text(get_sym('M', 'inverse'), alias, M_inverse)"
   ]
  },
  {
   "cell_type": "code",
   "execution_count": null,
   "id": "776f1055",
   "metadata": {},
   "outputs": [],
   "source": []
  }
 ],
 "metadata": {
  "kernelspec": {
   "display_name": "Python 3 (ipykernel)",
   "language": "python",
   "name": "python3"
  },
  "language_info": {
   "codemirror_mode": {
    "name": "ipython",
    "version": 3
   },
   "file_extension": ".py",
   "mimetype": "text/x-python",
   "name": "python",
   "nbconvert_exporter": "python",
   "pygments_lexer": "ipython3",
   "version": "3.10.9"
  }
 },
 "nbformat": 4,
 "nbformat_minor": 5
}
